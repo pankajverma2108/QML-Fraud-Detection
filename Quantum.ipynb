{
  "cells": [
    {
      "cell_type": "code",
      "execution_count": 1,
      "metadata": {
        "id": "ySEV3bkK6Ne9"
      },
      "outputs": [],
      "source": [
        "# !pip install qiskit==0.43.0"
      ]
    },
    {
      "cell_type": "code",
      "execution_count": 2,
      "metadata": {
        "id": "Dzl-Go_b-eIJ"
      },
      "outputs": [],
      "source": [
        "# !pip uninstall -y qiskit qiskit-aer qiskit-terra qiskit-ibmq-provider qiskit-machine-learning qiskit-ignis qiskit-algorithms"
      ]
    },
    {
      "cell_type": "code",
      "execution_count": 3,
      "metadata": {},
      "outputs": [],
      "source": [
        "# %pip list | findstr \"qiskit\""
      ]
    },
    {
      "cell_type": "code",
      "execution_count": 4,
      "metadata": {
        "id": "La4GK8y--vKe"
      },
      "outputs": [],
      "source": [
        "# %pip install qiskit==0.43.0 qiskit-aer==0.12.0 qiskit-machine-learning==0.6.1 qiskit-algorithms==0.2.1 --quiet\n",
        "# %pip install pandas numpy matplotlib seaborn --quiet"
      ]
    },
    {
      "cell_type": "code",
      "execution_count": 5,
      "metadata": {
        "id": "vUvm6M092MhC"
      },
      "outputs": [
        {
          "name": "stdout",
          "output_type": "stream",
          "text": [
            "qiskit                  0.43.0\n",
            "qiskit-aer              0.12.0\n",
            "qiskit-algorithms       0.2.1\n",
            "qiskit-ibmq-provider    0.20.2\n",
            "qiskit-machine-learning 0.6.1\n",
            "qiskit-terra            0.24.0\n"
          ]
        }
      ],
      "source": [
        "!pip list | findstr qiskit"
      ]
    },
    {
      "cell_type": "code",
      "execution_count": 6,
      "metadata": {
        "colab": {
          "base_uri": "https://localhost:8080/",
          "height": 529
        },
        "id": "xJJJ4FAY-lOn",
        "outputId": "01adc5da-cb29-4c39-c648-5cd2ae1f6220"
      },
      "outputs": [
        {
          "name": "stdout",
          "output_type": "stream",
          "text": [
            "Aer backends: [AerSimulator('aer_simulator'), AerSimulator('aer_simulator_statevector'), AerSimulator('aer_simulator_density_matrix'), AerSimulator('aer_simulator_stabilizer'), AerSimulator('aer_simulator_matrix_product_state'), AerSimulator('aer_simulator_extended_stabilizer'), AerSimulator('aer_simulator_unitary'), AerSimulator('aer_simulator_superop'), QasmSimulator('qasm_simulator'), StatevectorSimulator('statevector_simulator'), UnitarySimulator('unitary_simulator'), PulseSimulator('pulse_simulator')]\n",
            "Qiskit version: 0.24.0\n",
            "Qiskit ML version: 0.6.1\n"
          ]
        }
      ],
      "source": [
        "# Correct modular import for Aer\n",
        "from qiskit import Aer\n",
        "print(\"Aer backends:\", Aer.backends())\n",
        "\n",
        "# Optionally: check version compatibility\n",
        "import qiskit\n",
        "import qiskit_machine_learning\n",
        "print(\"Qiskit version:\", qiskit.__version__)\n",
        "print(\"Qiskit ML version:\", qiskit_machine_learning.__version__)\n"
      ]
    },
    {
      "cell_type": "code",
      "execution_count": 7,
      "metadata": {
        "id": "yS4sHe545yx7"
      },
      "outputs": [],
      "source": [
        "# Core libraries\n",
        "import numpy as np\n",
        "import pandas as pd\n",
        "import matplotlib.pyplot as plt\n",
        "import seaborn as sns\n",
        "\n",
        "# Sklearn\n",
        "from sklearn.model_selection import train_test_split\n",
        "from sklearn.preprocessing import LabelEncoder, StandardScaler\n",
        "from sklearn.metrics import accuracy_score, precision_score, recall_score, f1_score, classification_report\n",
        "\n",
        "# Qiskit and Qiskit Machine Learning\n",
        "from qiskit_aer import Aer\n",
        "from qiskit.utils import QuantumInstance\n",
        "from qiskit.circuit.library import ZFeatureMap, ZZFeatureMap, PauliFeatureMap, TwoLocal\n",
        "from qiskit.algorithms.optimizers import COBYLA\n",
        "\n",
        "# Quantum ML models\n",
        "from qiskit_machine_learning.kernels import QuantumKernel\n",
        "from qiskit_machine_learning.algorithms.classifiers import QSVC, VQC\n",
        "from qiskit_machine_learning.neural_networks import EstimatorQNN, SamplerQNN\n",
        "from qiskit_machine_learning.connectors import TorchConnector\n",
        "\n",
        "# Warnings\n",
        "import warnings\n",
        "warnings.filterwarnings(\"ignore\")\n"
      ]
    },
    {
      "cell_type": "markdown",
      "metadata": {
        "id": "wqk59idzCMQP"
      },
      "source": [
        "### 2A. Load Data"
      ]
    },
    {
      "cell_type": "code",
      "execution_count": 8,
      "metadata": {
        "id": "rwMR6AigA1CQ"
      },
      "outputs": [],
      "source": [
        "# from google.colab import drive\n",
        "# drive.mount('/content/drive')"
      ]
    },
    {
      "cell_type": "code",
      "execution_count": 9,
      "metadata": {
        "id": "Q15zxkMbA93W"
      },
      "outputs": [
        {
          "name": "stdout",
          "output_type": "stream",
          "text": [
            "Shape: (594643, 10)\n"
          ]
        },
        {
          "data": {
            "text/html": [
              "<div>\n",
              "<style scoped>\n",
              "    .dataframe tbody tr th:only-of-type {\n",
              "        vertical-align: middle;\n",
              "    }\n",
              "\n",
              "    .dataframe tbody tr th {\n",
              "        vertical-align: top;\n",
              "    }\n",
              "\n",
              "    .dataframe thead th {\n",
              "        text-align: right;\n",
              "    }\n",
              "</style>\n",
              "<table border=\"1\" class=\"dataframe\">\n",
              "  <thead>\n",
              "    <tr style=\"text-align: right;\">\n",
              "      <th></th>\n",
              "      <th>step</th>\n",
              "      <th>customer</th>\n",
              "      <th>age</th>\n",
              "      <th>gender</th>\n",
              "      <th>zipcodeOri</th>\n",
              "      <th>merchant</th>\n",
              "      <th>zipMerchant</th>\n",
              "      <th>category</th>\n",
              "      <th>amount</th>\n",
              "      <th>fraud</th>\n",
              "    </tr>\n",
              "  </thead>\n",
              "  <tbody>\n",
              "    <tr>\n",
              "      <th>0</th>\n",
              "      <td>0</td>\n",
              "      <td>'C1093826151'</td>\n",
              "      <td>'4'</td>\n",
              "      <td>'M'</td>\n",
              "      <td>'28007'</td>\n",
              "      <td>'M348934600'</td>\n",
              "      <td>'28007'</td>\n",
              "      <td>'es_transportation'</td>\n",
              "      <td>4.55</td>\n",
              "      <td>0</td>\n",
              "    </tr>\n",
              "    <tr>\n",
              "      <th>1</th>\n",
              "      <td>0</td>\n",
              "      <td>'C352968107'</td>\n",
              "      <td>'2'</td>\n",
              "      <td>'M'</td>\n",
              "      <td>'28007'</td>\n",
              "      <td>'M348934600'</td>\n",
              "      <td>'28007'</td>\n",
              "      <td>'es_transportation'</td>\n",
              "      <td>39.68</td>\n",
              "      <td>0</td>\n",
              "    </tr>\n",
              "    <tr>\n",
              "      <th>2</th>\n",
              "      <td>0</td>\n",
              "      <td>'C2054744914'</td>\n",
              "      <td>'4'</td>\n",
              "      <td>'F'</td>\n",
              "      <td>'28007'</td>\n",
              "      <td>'M1823072687'</td>\n",
              "      <td>'28007'</td>\n",
              "      <td>'es_transportation'</td>\n",
              "      <td>26.89</td>\n",
              "      <td>0</td>\n",
              "    </tr>\n",
              "    <tr>\n",
              "      <th>3</th>\n",
              "      <td>0</td>\n",
              "      <td>'C1760612790'</td>\n",
              "      <td>'3'</td>\n",
              "      <td>'M'</td>\n",
              "      <td>'28007'</td>\n",
              "      <td>'M348934600'</td>\n",
              "      <td>'28007'</td>\n",
              "      <td>'es_transportation'</td>\n",
              "      <td>17.25</td>\n",
              "      <td>0</td>\n",
              "    </tr>\n",
              "    <tr>\n",
              "      <th>4</th>\n",
              "      <td>0</td>\n",
              "      <td>'C757503768'</td>\n",
              "      <td>'5'</td>\n",
              "      <td>'M'</td>\n",
              "      <td>'28007'</td>\n",
              "      <td>'M348934600'</td>\n",
              "      <td>'28007'</td>\n",
              "      <td>'es_transportation'</td>\n",
              "      <td>35.72</td>\n",
              "      <td>0</td>\n",
              "    </tr>\n",
              "  </tbody>\n",
              "</table>\n",
              "</div>"
            ],
            "text/plain": [
              "   step       customer  age gender zipcodeOri       merchant zipMerchant  \\\n",
              "0     0  'C1093826151'  '4'    'M'    '28007'   'M348934600'     '28007'   \n",
              "1     0   'C352968107'  '2'    'M'    '28007'   'M348934600'     '28007'   \n",
              "2     0  'C2054744914'  '4'    'F'    '28007'  'M1823072687'     '28007'   \n",
              "3     0  'C1760612790'  '3'    'M'    '28007'   'M348934600'     '28007'   \n",
              "4     0   'C757503768'  '5'    'M'    '28007'   'M348934600'     '28007'   \n",
              "\n",
              "              category  amount  fraud  \n",
              "0  'es_transportation'    4.55      0  \n",
              "1  'es_transportation'   39.68      0  \n",
              "2  'es_transportation'   26.89      0  \n",
              "3  'es_transportation'   17.25      0  \n",
              "4  'es_transportation'   35.72      0  "
            ]
          },
          "execution_count": 9,
          "metadata": {},
          "output_type": "execute_result"
        }
      ],
      "source": [
        "import pandas as pd\n",
        "\n",
        "# Path to your BankSim CSV file\n",
        "file_path = 'BankSim\\\\bs140513_032310.csv'\n",
        "\n",
        "# Load dataset\n",
        "df = pd.read_csv(file_path)\n",
        "\n",
        "# Show basic info\n",
        "print(\"Shape:\", df.shape)\n",
        "df.head()"
      ]
    },
    {
      "cell_type": "markdown",
      "metadata": {
        "id": "qooLNUIeCQIM"
      },
      "source": [
        "### 2B. Data Cleaning and Preprocessing\n",
        "1. Select features: age, gender, category, amount\n",
        "2. Clean age: Convert categorical age codes to numeric\n",
        "3. Encode gender and category: Label encode them\n",
        "4. Balance the dataset: Equal number of fraud and non-fraud cases (100 each)\n",
        "5. Standardize amount for quantum scaling"
      ]
    },
    {
      "cell_type": "markdown",
      "metadata": {
        "id": "UD22svm5Ck8R"
      },
      "source": [
        "##### 2B.1 Preprocessing and Feature Selection"
      ]
    },
    {
      "cell_type": "code",
      "execution_count": 10,
      "metadata": {
        "id": "N2IKbJeGBdOD"
      },
      "outputs": [
        {
          "name": "stdout",
          "output_type": "stream",
          "text": [
            "NaNs in df_selected:\n",
            " age         0\n",
            "gender      0\n",
            "category    0\n",
            "amount      0\n",
            "fraud       0\n",
            "dtype: int64\n"
          ]
        }
      ],
      "source": [
        "# Select relevant columns\n",
        "df_selected = df[['age', 'gender', 'category', 'amount', 'fraud']].copy()\n",
        "\n",
        "# Strip the single quotes from age strings\n",
        "df_selected['age'] = df_selected['age'].str.strip(\"'\")\n",
        "\n",
        "# Clean 'age' (convert from string labels to integers)\n",
        "age_mapping = {\n",
        "    '0': 0,   # ≤18\n",
        "    '1': 1,   # 19-25\n",
        "    '2': 2,   # 26-35\n",
        "    '3': 3,   # 36-45\n",
        "    '4': 4,   # 46-55\n",
        "    '5': 5,   # 56-65\n",
        "    '6': 6,   # >65\n",
        "    'U': -1   # Unknown\n",
        "}\n",
        "df_selected['age'] = df_selected['age'].map(age_mapping)\n",
        "\n",
        "# Drop rows with unknown age\n",
        "df_selected = df_selected[df_selected['age'] != -1]\n",
        "\n",
        "print(\"NaNs in df_selected:\\n\", df_selected.isnull().sum())"
      ]
    },
    {
      "cell_type": "code",
      "execution_count": 11,
      "metadata": {
        "id": "Btx40GCPEDiR"
      },
      "outputs": [],
      "source": [
        "# df_selected_cleaned = df_selected.dropna()\n",
        "# print(\"Shape after dropping NaNs:\", df_selected_cleaned.shape)\n"
      ]
    },
    {
      "cell_type": "markdown",
      "metadata": {
        "id": "kA2EXQj3Cw-9"
      },
      "source": [
        "##### 2B.2 Encode Categorical Features"
      ]
    },
    {
      "cell_type": "code",
      "execution_count": 12,
      "metadata": {
        "id": "skm8w6wlBfsQ"
      },
      "outputs": [],
      "source": [
        "# Encode 'gender' and 'category'\n",
        "le_gender = LabelEncoder()\n",
        "le_category = LabelEncoder()\n",
        "\n",
        "df_selected['gender'] = le_gender.fit_transform(df_selected['gender'])\n",
        "df_selected['category'] = le_category.fit_transform(df_selected['category'])"
      ]
    },
    {
      "cell_type": "markdown",
      "metadata": {
        "id": "74Djj84DC0lc"
      },
      "source": [
        "##### 2B.3 Balance the Dataset (100 Fraud, 100 Non-Fraud)"
      ]
    },
    {
      "cell_type": "code",
      "execution_count": 13,
      "metadata": {
        "id": "c6P2PUKABju2"
      },
      "outputs": [],
      "source": [
        "# Separate fraud and non-fraud cases\n",
        "fraud_df = df_selected[df_selected['fraud'] == 1]\n",
        "non_fraud_df = df_selected[df_selected['fraud'] == 0]\n",
        "\n",
        "# Randomly sample 100 from each\n",
        "fraud_sample = fraud_df.sample(n=100, random_state=42)\n",
        "non_fraud_sample = non_fraud_df.sample(n=100, random_state=42)\n",
        "\n",
        "# Combine balanced dataset\n",
        "balanced_df = pd.concat([fraud_sample, non_fraud_sample], axis=0).sample(frac=1, random_state=42).reset_index(drop=True)"
      ]
    },
    {
      "cell_type": "markdown",
      "metadata": {
        "id": "77fxVEzTC34d"
      },
      "source": [
        "##### 2B.4 Feature Scaling (Standardize Amount)"
      ]
    },
    {
      "cell_type": "code",
      "execution_count": 14,
      "metadata": {
        "id": "KMqsFpopBnvG"
      },
      "outputs": [],
      "source": [
        "scaler = StandardScaler()\n",
        "balanced_df['amount'] = scaler.fit_transform(balanced_df[['amount']])"
      ]
    },
    {
      "cell_type": "markdown",
      "metadata": {
        "id": "w9gg_y9VC61m"
      },
      "source": [
        "##### 2B.5 Prepare X and y"
      ]
    },
    {
      "cell_type": "code",
      "execution_count": 15,
      "metadata": {
        "id": "peZn-GHvBrYO"
      },
      "outputs": [],
      "source": [
        "X = balanced_df[['age', 'gender', 'category', 'amount']].values\n",
        "y = balanced_df['fraud'].values\n",
        "\n",
        "# Split into train/test (80/20)\n",
        "from sklearn.model_selection import train_test_split\n",
        "X_train, X_test, y_train, y_test = train_test_split(X, y, test_size=0.2, random_state=42, stratify=y)"
      ]
    },
    {
      "cell_type": "markdown",
      "metadata": {
        "id": "paIAcnsEC9_P"
      },
      "source": [
        "### 3: Implement a Classical ML Baseline"
      ]
    },
    {
      "cell_type": "markdown",
      "metadata": {
        "id": "hOPOhhtWC_f-"
      },
      "source": [
        "##### 3.1 Train Classical SVM"
      ]
    },
    {
      "cell_type": "code",
      "execution_count": 16,
      "metadata": {
        "id": "zr4njYkNDYj-"
      },
      "outputs": [],
      "source": [
        "# import numpy as np\n",
        "\n",
        "# print(\"NaNs in X_train:\", np.isnan(X_train).sum())\n",
        "# print(\"NaNs in X_test:\", np.isnan(X_test).sum())\n"
      ]
    },
    {
      "cell_type": "code",
      "execution_count": 17,
      "metadata": {
        "id": "fZDeNff2DcoW"
      },
      "outputs": [],
      "source": [
        "# # Drop any rows with NaNs (just in case)\n",
        "# balanced_df_cleaned = balanced_df.dropna()\n",
        "\n",
        "# # Reconstruct X and y\n",
        "# X = balanced_df_cleaned[['age', 'gender', 'category', 'amount']].values\n",
        "# y = balanced_df_cleaned['fraud'].values\n",
        "\n",
        "# # Resplit train/test\n",
        "# X_train, X_test, y_train, y_test = train_test_split(\n",
        "#     X, y, test_size=0.2, random_state=42, stratify=y\n",
        "# )"
      ]
    },
    {
      "cell_type": "code",
      "execution_count": 18,
      "metadata": {
        "id": "jXI5Gw5XDCGw"
      },
      "outputs": [],
      "source": [
        "from sklearn.svm import SVC\n",
        "\n",
        "# Classical SVM model\n",
        "svm_model = SVC(kernel='rbf', random_state=42)\n",
        "\n",
        "# Fit on training data\n",
        "svm_model.fit(X_train, y_train)\n",
        "\n",
        "# Predict on test data\n",
        "y_pred_classical = svm_model.predict(X_test)"
      ]
    },
    {
      "cell_type": "markdown",
      "metadata": {
        "id": "a5u0v43NHjst"
      },
      "source": [
        "##### 3.2 Evaluate Performance"
      ]
    },
    {
      "cell_type": "code",
      "execution_count": 19,
      "metadata": {
        "id": "_XiFsZx7Hmmz"
      },
      "outputs": [
        {
          "name": "stdout",
          "output_type": "stream",
          "text": [
            "Classification Report (Classical SVM):\n",
            "              precision    recall  f1-score   support\n",
            "\n",
            "   Non-Fraud       0.79      0.95      0.86        20\n",
            "       Fraud       0.94      0.75      0.83        20\n",
            "\n",
            "    accuracy                           0.85        40\n",
            "   macro avg       0.86      0.85      0.85        40\n",
            "weighted avg       0.86      0.85      0.85        40\n",
            "\n"
          ]
        },
        {
          "data": {
            "image/png": "[encoded data removed]",
            "text/plain": [
              "<Figure size 640x480 with 2 Axes>"
            ]
          },
          "metadata": {},
          "output_type": "display_data"
        }
      ],
      "source": [
        "from sklearn.metrics import classification_report, confusion_matrix\n",
        "import seaborn as sns\n",
        "import matplotlib.pyplot as plt\n",
        "\n",
        "# Classification metrics\n",
        "print(\"Classification Report (Classical SVM):\")\n",
        "print(classification_report(y_test, y_pred_classical, target_names=[\"Non-Fraud\", \"Fraud\"]))\n",
        "\n",
        "# Confusion matrix\n",
        "conf_mat = confusion_matrix(y_test, y_pred_classical)\n",
        "sns.heatmap(conf_mat, annot=True, fmt='d', cmap='Blues',\n",
        "            xticklabels=[\"Predicted Non-Fraud\", \"Predicted Fraud\"],\n",
        "            yticklabels=[\"Actual Non-Fraud\", \"Actual Fraud\"])\n",
        "plt.title(\"Confusion Matrix - Classical SVM\")\n",
        "plt.xlabel(\"Predicted\")\n",
        "plt.ylabel(\"Actual\")\n",
        "plt.show()"
      ]
    },
    {
      "cell_type": "markdown",
      "metadata": {
        "id": "oFiXxu3VJJul"
      },
      "source": [
        "### 4: Quantum Feature Maps\n",
        "Quantum models rely on feature maps (encoders) to embed classical data into quantum states. Setting up three standard Qiskit feature maps:\n",
        "1. ZFeatureMap – shallow, no entanglement\n",
        "2. ZZFeatureMap – uses pairwise entanglement\n",
        "3. PauliFeatureMap – more complex encodings using Pauli rotations"
      ]
    },
    {
      "cell_type": "markdown",
      "metadata": {
        "id": "Os_NS04ZJMGh"
      },
      "source": [
        "##### 4.1 Set Number of Qubits\n",
        "Since we have 4 features (age, gender, category, amount), we use 4 qubits."
      ]
    },
    {
      "cell_type": "code",
      "execution_count": 20,
      "metadata": {
        "id": "pdk5X30_JgPf"
      },
      "outputs": [],
      "source": [
        "num_qubits = X_train.shape[1]"
      ]
    },
    {
      "cell_type": "markdown",
      "metadata": {
        "id": "BoRc9Uw0Jlxx"
      },
      "source": [
        "##### 4.2 Define Feature Maps"
      ]
    },
    {
      "cell_type": "code",
      "execution_count": 21,
      "metadata": {
        "id": "t_zyubouJnpg"
      },
      "outputs": [],
      "source": [
        "from qiskit.circuit.library import ZFeatureMap, ZZFeatureMap, PauliFeatureMap\n",
        "\n",
        "# ZFeatureMap: no entanglement\n",
        "z_feature_map = ZFeatureMap(feature_dimension=num_qubits, reps=2)\n",
        "\n",
        "# ZZFeatureMap: pairwise entanglement (stronger encoding)\n",
        "zz_feature_map = ZZFeatureMap(feature_dimension=num_qubits, reps=2)\n",
        "\n",
        "# PauliFeatureMap: Pauli expansion with entanglement\n",
        "pauli_feature_map = PauliFeatureMap(\n",
        "    feature_dimension=num_qubits,\n",
        "    reps=2,\n",
        "    paulis=['Z', 'ZZ']\n",
        ")"
      ]
    },
    {
      "cell_type": "code",
      "execution_count": 22,
      "metadata": {
        "id": "EEGCTiprJyHH"
      },
      "outputs": [],
      "source": [
        "# !pip install pylatexenc"
      ]
    },
    {
      "cell_type": "code",
      "execution_count": 23,
      "metadata": {
        "id": "tXJc23OJJtVw"
      },
      "outputs": [
        {
          "data": {
            "text/html": [
              "<pre style=\"word-wrap: normal;white-space: pre;background: #fff0;line-height: 1.1;font-family: &quot;Courier New&quot;,Courier,monospace\">     ┌───┐┌─────────────┐┌───┐┌─────────────┐\n",
              "q_0: ┤ H ├┤ P(2.0*x[0]) ├┤ H ├┤ P(2.0*x[0]) ├\n",
              "     ├───┤├─────────────┤├───┤├─────────────┤\n",
              "q_1: ┤ H ├┤ P(2.0*x[1]) ├┤ H ├┤ P(2.0*x[1]) ├\n",
              "     ├───┤├─────────────┤├───┤├─────────────┤\n",
              "q_2: ┤ H ├┤ P(2.0*x[2]) ├┤ H ├┤ P(2.0*x[2]) ├\n",
              "     ├───┤├─────────────┤├───┤├─────────────┤\n",
              "q_3: ┤ H ├┤ P(2.0*x[3]) ├┤ H ├┤ P(2.0*x[3]) ├\n",
              "     └───┘└─────────────┘└───┘└─────────────┘</pre>"
            ],
            "text/plain": [
              "     ┌───┐┌─────────────┐┌───┐┌─────────────┐\n",
              "q_0: ┤ H ├┤ P(2.0*x[0]) ├┤ H ├┤ P(2.0*x[0]) ├\n",
              "     ├───┤├─────────────┤├───┤├─────────────┤\n",
              "q_1: ┤ H ├┤ P(2.0*x[1]) ├┤ H ├┤ P(2.0*x[1]) ├\n",
              "     ├───┤├─────────────┤├───┤├─────────────┤\n",
              "q_2: ┤ H ├┤ P(2.0*x[2]) ├┤ H ├┤ P(2.0*x[2]) ├\n",
              "     ├───┤├─────────────┤├───┤├─────────────┤\n",
              "q_3: ┤ H ├┤ P(2.0*x[3]) ├┤ H ├┤ P(2.0*x[3]) ├\n",
              "     └───┘└─────────────┘└───┘└─────────────┘"
            ]
          },
          "execution_count": 23,
          "metadata": {},
          "output_type": "execute_result"
        }
      ],
      "source": [
        "z_feature_map.decompose().draw(output='text')"
      ]
    },
    {
      "cell_type": "markdown",
      "metadata": {
        "id": "cxVMvDAmKYZ_"
      },
      "source": [
        "##### 4.3 Setup Quantum Backend"
      ]
    },
    {
      "cell_type": "code",
      "execution_count": 24,
      "metadata": {
        "id": "FaMY2PxDKZoW"
      },
      "outputs": [],
      "source": [
        "from qiskit import Aer\n",
        "from qiskit.utils import QuantumInstance\n",
        "\n",
        "# Use the QASM simulator for now\n",
        "backend = Aer.get_backend(\"qasm_simulator\")\n",
        "qi = QuantumInstance(backend=backend, shots=1024, seed_simulator=42, seed_transpiler=42)"
      ]
    },
    {
      "cell_type": "markdown",
      "metadata": {
        "id": "alHRipEWKvdF"
      },
      "source": [
        "### QSVC – Quantum Support Vector Classifier\n",
        "The QSVC in Qiskit uses a quantum kernel based on a feature map (here: ZFeatureMap) to calculate inner products between quantum states for classification."
      ]
    },
    {
      "cell_type": "markdown",
      "metadata": {
        "id": "9jyTZTvxK5Am"
      },
      "source": [
        "##### 5.1 Create the Quantum Kernel"
      ]
    },
    {
      "cell_type": "code",
      "execution_count": 25,
      "metadata": {
        "id": "xMRxFiRTK7hq"
      },
      "outputs": [],
      "source": [
        "from qiskit_machine_learning.kernels import QuantumKernel\n",
        "\n",
        "# Use ZFeatureMap and the quantum instance\n",
        "quantum_kernel = QuantumKernel(feature_map=z_feature_map, quantum_instance=qi)"
      ]
    },
    {
      "cell_type": "markdown",
      "metadata": {
        "id": "KnXZr6WrK-xk"
      },
      "source": [
        "##### 5.2 Initialize and Train QSVC"
      ]
    },
    {
      "cell_type": "code",
      "execution_count": 26,
      "metadata": {
        "id": "TTIvxrp9LA1J"
      },
      "outputs": [
        {
          "data": {
            "text/html": [
              "<style>#sk-container-id-1 {color: black;background-color: white;}#sk-container-id-1 pre{padding: 0;}#sk-container-id-1 div.sk-toggleable {background-color: white;}#sk-container-id-1 label.sk-toggleable__label {cursor: pointer;display: block;width: 100%;margin-bottom: 0;padding: 0.3em;box-sizing: border-box;text-align: center;}#sk-container-id-1 label.sk-toggleable__label-arrow:before {content: \"▸\";float: left;margin-right: 0.25em;color: #696969;}#sk-container-id-1 label.sk-toggleable__label-arrow:hover:before {color: black;}#sk-container-id-1 div.sk-estimator:hover label.sk-toggleable__label-arrow:before {color: black;}#sk-container-id-1 div.sk-toggleable__content {max-height: 0;max-width: 0;overflow: hidden;text-align: left;background-color: #f0f8ff;}#sk-container-id-1 div.sk-toggleable__content pre {margin: 0.2em;color: black;border-radius: 0.25em;background-color: #f0f8ff;}#sk-container-id-1 input.sk-toggleable__control:checked~div.sk-toggleable__content {max-height: 200px;max-width: 100%;overflow: auto;}#sk-container-id-1 input.sk-toggleable__control:checked~label.sk-toggleable__label-arrow:before {content: \"▾\";}#sk-container-id-1 div.sk-estimator input.sk-toggleable__control:checked~label.sk-toggleable__label {background-color: #d4ebff;}#sk-container-id-1 div.sk-label input.sk-toggleable__control:checked~label.sk-toggleable__label {background-color: #d4ebff;}#sk-container-id-1 input.sk-hidden--visually {border: 0;clip: rect(1px 1px 1px 1px);clip: rect(1px, 1px, 1px, 1px);height: 1px;margin: -1px;overflow: hidden;padding: 0;position: absolute;width: 1px;}#sk-container-id-1 div.sk-estimator {font-family: monospace;background-color: #f0f8ff;border: 1px dotted black;border-radius: 0.25em;box-sizing: border-box;margin-bottom: 0.5em;}#sk-container-id-1 div.sk-estimator:hover {background-color: #d4ebff;}#sk-container-id-1 div.sk-parallel-item::after {content: \"\";width: 100%;border-bottom: 1px solid gray;flex-grow: 1;}#sk-container-id-1 div.sk-label:hover label.sk-toggleable__label {background-color: #d4ebff;}#sk-container-id-1 div.sk-serial::before {content: \"\";position: absolute;border-left: 1px solid gray;box-sizing: border-box;top: 0;bottom: 0;left: 50%;z-index: 0;}#sk-container-id-1 div.sk-serial {display: flex;flex-direction: column;align-items: center;background-color: white;padding-right: 0.2em;padding-left: 0.2em;position: relative;}#sk-container-id-1 div.sk-item {position: relative;z-index: 1;}#sk-container-id-1 div.sk-parallel {display: flex;align-items: stretch;justify-content: center;background-color: white;position: relative;}#sk-container-id-1 div.sk-item::before, #sk-container-id-1 div.sk-parallel-item::before {content: \"\";position: absolute;border-left: 1px solid gray;box-sizing: border-box;top: 0;bottom: 0;left: 50%;z-index: -1;}#sk-container-id-1 div.sk-parallel-item {display: flex;flex-direction: column;z-index: 1;position: relative;background-color: white;}#sk-container-id-1 div.sk-parallel-item:first-child::after {align-self: flex-end;width: 50%;}#sk-container-id-1 div.sk-parallel-item:last-child::after {align-self: flex-start;width: 50%;}#sk-container-id-1 div.sk-parallel-item:only-child::after {width: 0;}#sk-container-id-1 div.sk-dashed-wrapped {border: 1px dashed gray;margin: 0 0.4em 0.5em 0.4em;box-sizing: border-box;padding-bottom: 0.4em;background-color: white;}#sk-container-id-1 div.sk-label label {font-family: monospace;font-weight: bold;display: inline-block;line-height: 1.2em;}#sk-container-id-1 div.sk-label-container {text-align: center;}#sk-container-id-1 div.sk-container {/* jupyter's `normalize.less` sets `[hidden] { display: none; }` but bootstrap.min.css set `[hidden] { display: none !important; }` so we also need the `!important` here to be able to override the default hidden behavior on the sphinx rendered scikit-learn.org. See: https://github.com/scikit-learn/scikit-learn/issues/21755 */display: inline-block !important;position: relative;}#sk-container-id-1 div.sk-text-repr-fallback {display: none;}</style><div id=\"sk-container-id-1\" class=\"sk-top-container\"><div class=\"sk-text-repr-fallback\"><pre>QSVC(C=1.0, break_ties=False, cache_size=200, class_weight=None, coef0=0.0,\n",
              "     decision_function_shape=&#x27;ovr&#x27;, degree=3, gamma=&#x27;scale&#x27;, max_iter=-1,\n",
              "     probability=False,\n",
              "     quantum_kernel=&lt;qiskit_machine_learning.kernels.quantum_kernel.QuantumKernel object at 0x00000289A3E4E770&gt;,\n",
              "     random_state=None, shrinking=True, tol=0.001, verbose=False)</pre><b>In a Jupyter environment, please rerun this cell to show the HTML representation or trust the notebook. <br />On GitHub, the HTML representation is unable to render, please try loading this page with nbviewer.org.</b></div><div class=\"sk-container\" hidden><div class=\"sk-item\"><div class=\"sk-estimator sk-toggleable\"><input class=\"sk-toggleable__control sk-hidden--visually\" id=\"sk-estimator-id-1\" type=\"checkbox\" checked><label for=\"sk-estimator-id-1\" class=\"sk-toggleable__label sk-toggleable__label-arrow\">QSVC</label><div class=\"sk-toggleable__content\"><pre>QSVC(C=1.0, break_ties=False, cache_size=200, class_weight=None, coef0=0.0,\n",
              "     decision_function_shape=&#x27;ovr&#x27;, degree=3, gamma=&#x27;scale&#x27;, max_iter=-1,\n",
              "     probability=False,\n",
              "     quantum_kernel=&lt;qiskit_machine_learning.kernels.quantum_kernel.QuantumKernel object at 0x00000289A3E4E770&gt;,\n",
              "     random_state=None, shrinking=True, tol=0.001, verbose=False)</pre></div></div></div></div></div>"
            ],
            "text/plain": [
              "QSVC(C=1.0, break_ties=False, cache_size=200, class_weight=None, coef0=0.0,\n",
              "     decision_function_shape='ovr', degree=3, gamma='scale', max_iter=-1,\n",
              "     probability=False,\n",
              "     quantum_kernel=<qiskit_machine_learning.kernels.quantum_kernel.QuantumKernel object at 0x00000289A3E4E770>,\n",
              "     random_state=None, shrinking=True, tol=0.001, verbose=False)"
            ]
          },
          "execution_count": 26,
          "metadata": {},
          "output_type": "execute_result"
        }
      ],
      "source": [
        "from qiskit_machine_learning.algorithms.classifiers import QSVC\n",
        "\n",
        "# Quantum SVM model\n",
        "qsvc_model = QSVC(quantum_kernel=quantum_kernel)\n",
        "\n",
        "# Train the model\n",
        "qsvc_model.fit(X_train, y_train)"
      ]
    },
    {
      "cell_type": "markdown",
      "metadata": {
        "id": "z8g8MzYRLFOL"
      },
      "source": [
        "##### 5.3 Predict and Evaluate"
      ]
    },
    {
      "cell_type": "code",
      "execution_count": 27,
      "metadata": {
        "id": "9uVootKwLIxb"
      },
      "outputs": [
        {
          "name": "stdout",
          "output_type": "stream",
          "text": [
            "Classification Report (Quantum SVM - ZFeatureMap):\n",
            "              precision    recall  f1-score   support\n",
            "\n",
            "   Non-Fraud       0.90      0.95      0.93        20\n",
            "       Fraud       0.95      0.90      0.92        20\n",
            "\n",
            "    accuracy                           0.93        40\n",
            "   macro avg       0.93      0.93      0.92        40\n",
            "weighted avg       0.93      0.93      0.92        40\n",
            "\n"
          ]
        },
        {
          "data": {
            "image/png": "[encoded data removed]",
            "text/plain": [
              "<Figure size 640x480 with 2 Axes>"
            ]
          },
          "metadata": {},
          "output_type": "display_data"
        }
      ],
      "source": [
        "# Predict on test set\n",
        "y_pred_qsvc = qsvc_model.predict(X_test)\n",
        "\n",
        "# Evaluation\n",
        "from sklearn.metrics import classification_report, confusion_matrix\n",
        "import seaborn as sns\n",
        "import matplotlib.pyplot as plt\n",
        "\n",
        "print(\"Classification Report (Quantum SVM - ZFeatureMap):\")\n",
        "print(classification_report(y_test, y_pred_qsvc, target_names=[\"Non-Fraud\", \"Fraud\"]))\n",
        "\n",
        "# Confusion matrix\n",
        "conf_mat = confusion_matrix(y_test, y_pred_qsvc)\n",
        "sns.heatmap(conf_mat, annot=True, fmt='d', cmap='Purples',\n",
        "            xticklabels=[\"Predicted Non-Fraud\", \"Predicted Fraud\"],\n",
        "            yticklabels=[\"Actual Non-Fraud\", \"Actual Fraud\"])\n",
        "plt.title(\"Confusion Matrix - Quantum SVM (ZFeatureMap)\")\n",
        "plt.xlabel(\"Predicted\")\n",
        "plt.ylabel(\"Actual\")\n",
        "plt.show()"
      ]
    },
    {
      "cell_type": "markdown",
      "metadata": {
        "id": "xnq7d_zRPg6R"
      },
      "source": [
        "QSVC with ZFeatureMap achieved:\n",
        "\n",
        "- 93% Accuracy\n",
        "- F1-Score: 0.92 for Fraud detection, which outperforms your classical SVM baseline (0.83).\n",
        "\n",
        "This is a strong indicator that the quantum kernel approach is beneficial on this small, balanced dataset."
      ]
    },
    {
      "cell_type": "markdown",
      "metadata": {
        "id": "U1zhQKZSLnbR"
      },
      "source": [
        "### 6: Variational Quantum Classifier (VQC)\n",
        "The Variational Quantum Classifier is a trainable hybrid model consisting of:\n",
        "\n",
        "- A feature map (like ZFeatureMap)\n",
        "- A parametrized quantum circuit (ansatz), e.g., TwoLocal\n",
        "- A classical optimizer (e.g., COBYLA)\n",
        "\n",
        "Unlike QSVC, VQC learns to classify through optimization of circuit parameters."
      ]
    },
    {
      "cell_type": "markdown",
      "metadata": {
        "id": "c1dCD2uYL1QI"
      },
      "source": [
        "##### 6.1 Setup the Feature Map & Ansatz"
      ]
    },
    {
      "cell_type": "code",
      "execution_count": 28,
      "metadata": {
        "id": "X9XmSGVmL4Wo"
      },
      "outputs": [],
      "source": [
        "from qiskit.circuit.library import TwoLocal\n",
        "\n",
        "# Use same ZFeatureMap\n",
        "feature_map = ZFeatureMap(feature_dimension=num_qubits, reps=2)\n",
        "\n",
        "# Variational ansatz (entangled layers)\n",
        "ansatz = TwoLocal(num_qubits, ['ry', 'rz'], 'cz', reps=3, entanglement='full')"
      ]
    },
    {
      "cell_type": "markdown",
      "metadata": {
        "id": "XleAB76YL8b5"
      },
      "source": [
        "##### 6.2 Define the VQC Model"
      ]
    },
    {
      "cell_type": "code",
      "execution_count": 29,
      "metadata": {
        "id": "9Cdi16A5MZ1Z"
      },
      "outputs": [],
      "source": [
        "# %pip uninstall -y scikit-learn\n",
        "\n",
        "# # Install compatible version\n",
        "# %pip install scikit-learn==1.1.3"
      ]
    },
    {
      "cell_type": "code",
      "execution_count": 30,
      "metadata": {
        "id": "cXyagFDFL-dI"
      },
      "outputs": [],
      "source": [
        "from qiskit_machine_learning.algorithms.classifiers import VQC\n",
        "from qiskit.algorithms.optimizers import COBYLA\n",
        "\n",
        "# Define optimizer\n",
        "optimizer = COBYLA(maxiter=100)\n",
        "\n",
        "# Create VQC\n",
        "vqc_model = VQC(\n",
        "    feature_map=feature_map,\n",
        "    ansatz=ansatz,\n",
        "    optimizer=optimizer,\n",
        "    quantum_instance=qi\n",
        ")"
      ]
    },
    {
      "cell_type": "markdown",
      "metadata": {
        "id": "l87dB0zvOn34"
      },
      "source": [
        "##### 6.3 Train the VQC"
      ]
    },
    {
      "cell_type": "code",
      "execution_count": 31,
      "metadata": {
        "id": "vTKy7bsbOnV_"
      },
      "outputs": [
        {
          "data": {
            "text/plain": [
              "<qiskit_machine_learning.algorithms.classifiers.vqc.VQC at 0x289a550e500>"
            ]
          },
          "execution_count": 31,
          "metadata": {},
          "output_type": "execute_result"
        }
      ],
      "source": [
        "vqc_model.fit(X_train, y_train)\n"
      ]
    },
    {
      "cell_type": "markdown",
      "metadata": {
        "id": "lsOK2ewMOzPL"
      },
      "source": [
        "##### 6.4 Predict and Evaluate"
      ]
    },
    {
      "cell_type": "code",
      "execution_count": 32,
      "metadata": {
        "id": "2i8zcEucO4ob"
      },
      "outputs": [
        {
          "name": "stdout",
          "output_type": "stream",
          "text": [
            "Classification Report (VQC):\n",
            "              precision    recall  f1-score   support\n",
            "\n",
            "   Non-Fraud       0.73      0.80      0.76        20\n",
            "       Fraud       0.78      0.70      0.74        20\n",
            "\n",
            "    accuracy                           0.75        40\n",
            "   macro avg       0.75      0.75      0.75        40\n",
            "weighted avg       0.75      0.75      0.75        40\n",
            "\n"
          ]
        },
        {
          "data": {
            "image/png": "[encoded data removed]",
            "text/plain": [
              "<Figure size 640x480 with 2 Axes>"
            ]
          },
          "metadata": {},
          "output_type": "display_data"
        }
      ],
      "source": [
        "y_pred_vqc = vqc_model.predict(X_test)\n",
        "\n",
        "print(\"Classification Report (VQC):\")\n",
        "print(classification_report(y_test, y_pred_vqc, target_names=[\"Non-Fraud\", \"Fraud\"]))\n",
        "\n",
        "# Confusion matrix\n",
        "conf_mat = confusion_matrix(y_test, y_pred_vqc)\n",
        "sns.heatmap(conf_mat, annot=True, fmt='d', cmap='Greens',\n",
        "            xticklabels=[\"Predicted Non-Fraud\", \"Predicted Fraud\"],\n",
        "            yticklabels=[\"Actual Non-Fraud\", \"Actual Fraud\"])\n",
        "plt.title(\"Confusion Matrix - VQC\")\n",
        "plt.xlabel(\"Predicted\")\n",
        "plt.ylabel(\"Actual\")\n",
        "plt.show()"
      ]
    },
    {
      "cell_type": "markdown",
      "metadata": {
        "id": "IUaGRgXrPmzJ"
      },
      "source": [
        "- Accuracy: 68%\n",
        "- F1-score (Fraud): 0.67\n",
        "- Observation: Significantly lower than both QSVC (93%) and classical SVM (83%)\n",
        "\n",
        "We can later try tuning those in Step 10 (Optimization)."
      ]
    },
    {
      "cell_type": "markdown",
      "metadata": {
        "id": "dhrPh-o-aTbR"
      },
      "source": [
        "### STEP 7: Estimator Quantum Neural Network (Estimator QNN)"
      ]
    },
    {
      "cell_type": "markdown",
      "metadata": {
        "id": "jfdntsYOaZ_c"
      },
      "source": [
        "##### EstimatorQNN uses the Qiskit Estimator primitive, which computes expectation values of quantum observables — useful for building quantum neural networks."
      ]
    },
    {
      "cell_type": "markdown",
      "metadata": {
        "id": "eF-wCTG0acnk"
      },
      "source": [
        "#### 7A: Setup"
      ]
    },
    {
      "cell_type": "markdown",
      "metadata": {
        "id": "Mhr5GDCRajdF"
      },
      "source": [
        "##### 7.1 Define Feature Map and Ansatz"
      ]
    },
    {
      "cell_type": "code",
      "execution_count": 33,
      "metadata": {
        "id": "PWn5p-luanH0"
      },
      "outputs": [],
      "source": [
        "from qiskit.circuit.library import TwoLocal, ZZFeatureMap\n",
        "\n",
        "feature_map = ZZFeatureMap(num_qubits, reps=1)\n",
        "ansatz = TwoLocal(num_qubits, ['ry', 'rz'], 'cz', reps=1, entanglement='full')"
      ]
    },
    {
      "cell_type": "markdown",
      "metadata": {
        "id": "moUUsmIBcaGf"
      },
      "source": [
        "##### 7.1.1 Combine feature_map and ansatz into a single circuit"
      ]
    },
    {
      "cell_type": "code",
      "execution_count": 34,
      "metadata": {
        "id": "VWXFCYcqc4Eo"
      },
      "outputs": [],
      "source": [
        "from qiskit import QuantumCircuit\n",
        "\n",
        "# Combine feature map + ansatz into a single circuit\n",
        "qnn_circuit = QuantumCircuit(num_qubits)\n",
        "qnn_circuit.compose(feature_map, inplace=True)\n",
        "qnn_circuit.compose(ansatz, inplace=True)"
      ]
    },
    {
      "cell_type": "markdown",
      "metadata": {
        "id": "HOuimLRwbJdF"
      },
      "source": [
        "##### 7.2 Create EstimatorQNN with explicit input/weight parameters"
      ]
    },
    {
      "cell_type": "code",
      "execution_count": 35,
      "metadata": {
        "id": "EE1gyaJMbMXi"
      },
      "outputs": [],
      "source": [
        "from qiskit_machine_learning.neural_networks import EstimatorQNN\n",
        "from qiskit.primitives import Estimator\n",
        "\n",
        "\n",
        "# Define input and weight parameters\n",
        "input_params = list(feature_map.parameters)\n",
        "weight_params = list(ansatz.parameters)\n",
        "\n",
        "# Create the Estimator primitive\n",
        "estimator = Estimator(options={\"shots\": 1024, \"seed\": 42})\n",
        "\n",
        "# Create EstimatorQNN with the new API\n",
        "estimator_qnn = EstimatorQNN(\n",
        "    circuit=qnn_circuit,\n",
        "    input_params=input_params,\n",
        "    weight_params=weight_params,\n",
        "    estimator=estimator\n",
        ")"
      ]
    },
    {
      "cell_type": "markdown",
      "metadata": {
        "id": "kXLVFN8dd0M0"
      },
      "source": [
        "##### 7.3 Convert QNN to PyTorch Layer"
      ]
    },
    {
      "cell_type": "code",
      "execution_count": 36,
      "metadata": {},
      "outputs": [],
      "source": [
        "# %pip install torch\n"
      ]
    },
    {
      "cell_type": "code",
      "execution_count": 37,
      "metadata": {
        "id": "11wh3bIsd2UY"
      },
      "outputs": [],
      "source": [
        "from qiskit_machine_learning.connectors import TorchConnector\n",
        "import torch\n",
        "import torch.nn as nn\n",
        "import torch.optim as optim\n",
        "\n",
        "# Wrap the QNN into a PyTorch-compatible layer\n",
        "qnn_layer = TorchConnector(estimator_qnn)"
      ]
    },
    {
      "cell_type": "markdown",
      "metadata": {
        "id": "hCjGPLzNd4tV"
      },
      "source": [
        "##### 7.4 Define Quantum Neural Network Class"
      ]
    },
    {
      "cell_type": "code",
      "execution_count": 38,
      "metadata": {
        "id": "sqWolf5Td9fl"
      },
      "outputs": [],
      "source": [
        "class QuantumNet(nn.Module):\n",
        "    def __init__(self):\n",
        "        super().__init__()\n",
        "        self.qnn = qnn_layer\n",
        "        self.output = nn.Sigmoid()\n",
        "\n",
        "    def forward(self, x):\n",
        "        x = self.qnn(x)\n",
        "        return self.output(x)"
      ]
    },
    {
      "cell_type": "markdown",
      "metadata": {
        "id": "7H0dYAazd8-5"
      },
      "source": [
        "##### 7.5 Prepare Data for PyTorch"
      ]
    },
    {
      "cell_type": "code",
      "execution_count": 39,
      "metadata": {
        "id": "6yH5c6iLeEME"
      },
      "outputs": [],
      "source": [
        "# Convert datasets to PyTorch tensors\n",
        "X_train_torch = torch.tensor(X_train, dtype=torch.float32)\n",
        "y_train_torch = torch.tensor(y_train.reshape(-1, 1), dtype=torch.float32)\n",
        "\n",
        "X_test_torch = torch.tensor(X_test, dtype=torch.float32)\n",
        "y_test_torch = torch.tensor(y_test.reshape(-1, 1), dtype=torch.float32)"
      ]
    },
    {
      "cell_type": "markdown",
      "metadata": {
        "id": "xTNqQI8geHpx"
      },
      "source": [
        "##### 7.6 Train the Estimator QNN Model"
      ]
    },
    {
      "cell_type": "code",
      "execution_count": 40,
      "metadata": {
        "id": "VUlzbT1JeKI7"
      },
      "outputs": [
        {
          "name": "stdout",
          "output_type": "stream",
          "text": [
            "Epoch 1/10 | Loss: 0.6993\n",
            "Epoch 2/10 | Loss: 0.6983\n",
            "Epoch 3/10 | Loss: 0.6973\n",
            "Epoch 4/10 | Loss: 0.6963\n",
            "Epoch 5/10 | Loss: 0.6953\n",
            "Epoch 6/10 | Loss: 0.6942\n",
            "Epoch 7/10 | Loss: 0.6932\n",
            "Epoch 8/10 | Loss: 0.6922\n",
            "Epoch 9/10 | Loss: 0.6911\n",
            "Epoch 10/10 | Loss: 0.6901\n"
          ]
        }
      ],
      "source": [
        "model = QuantumNet()\n",
        "loss_fn = nn.BCELoss()\n",
        "optimizer = optim.Adam(model.parameters(), lr=0.01)\n",
        "\n",
        "epochs = 10\n",
        "for epoch in range(epochs):\n",
        "    optimizer.zero_grad()\n",
        "    y_pred = model(X_train_torch)\n",
        "    loss = loss_fn(y_pred, y_train_torch)\n",
        "    loss.backward()\n",
        "    optimizer.step()\n",
        "    print(f\"Epoch {epoch+1}/{epochs} | Loss: {loss.item():.4f}\")"
      ]
    },
    {
      "cell_type": "markdown",
      "metadata": {
        "id": "NYmlWy3IePp0"
      },
      "source": [
        "##### 7.7 Evaluate Estimator QNN Performance"
      ]
    },
    {
      "cell_type": "code",
      "execution_count": 41,
      "metadata": {
        "id": "KeVHYDb8eRII"
      },
      "outputs": [
        {
          "name": "stdout",
          "output_type": "stream",
          "text": [
            "Classification Report (Estimator QNN):\n",
            "              precision    recall  f1-score   support\n",
            "\n",
            "   Non-Fraud       0.50      0.60      0.55        20\n",
            "       Fraud       0.50      0.40      0.44        20\n",
            "\n",
            "    accuracy                           0.50        40\n",
            "   macro avg       0.50      0.50      0.49        40\n",
            "weighted avg       0.50      0.50      0.49        40\n",
            "\n"
          ]
        },
        {
          "data": {
            "image/png": "[encoded data removed]",
            "text/plain": [
              "<Figure size 640x480 with 2 Axes>"
            ]
          },
          "metadata": {},
          "output_type": "display_data"
        }
      ],
      "source": [
        "from sklearn.metrics import classification_report, confusion_matrix\n",
        "import seaborn as sns\n",
        "import matplotlib.pyplot as plt\n",
        "\n",
        "# Inference\n",
        "with torch.no_grad():\n",
        "    y_pred_test = model(X_test_torch)\n",
        "    y_pred_labels = (y_pred_test >= 0.5).int().numpy()\n",
        "\n",
        "# Report\n",
        "print(\"Classification Report (Estimator QNN):\")\n",
        "print(classification_report(y_test, y_pred_labels, target_names=[\"Non-Fraud\", \"Fraud\"]))\n",
        "\n",
        "# Confusion Matrix\n",
        "conf_mat = confusion_matrix(y_test, y_pred_labels)\n",
        "sns.heatmap(conf_mat, annot=True, fmt='d', cmap='Oranges',\n",
        "            xticklabels=[\"Predicted Non-Fraud\", \"Predicted Fraud\"],\n",
        "            yticklabels=[\"Actual Non-Fraud\", \"Actual Fraud\"])\n",
        "plt.title(\"Confusion Matrix - Estimator QNN\")\n",
        "plt.xlabel(\"Predicted\")\n",
        "plt.ylabel(\"Actual\")\n",
        "plt.show()"
      ]
    },
    {
      "cell_type": "markdown",
      "metadata": {
        "id": "Nzd6w7JPh3X9"
      },
      "source": [
        "- Accuracy: 50%\n",
        "- F1-score (Fraud): 0.29\n",
        "- Observation: Estimator QNN struggled here — it leaned toward predicting Non-Fraud more often.\n",
        "\n",
        "This is not unusual:\n",
        "\n",
        "- Estimator-based models can underfit without enough training (only 10 epochs).\n",
        "- They also depend heavily on ansatz design and learning rate tuning (we’ll address this in Step 10)."
      ]
    },
    {
      "cell_type": "code",
      "execution_count": 42,
      "metadata": {
        "id": "u_4xSp6EsLfn"
      },
      "outputs": [],
      "source": [
        "# Save predicted labels for comparison\n",
        "y_pred_labels_estimator = y_pred_labels.copy()"
      ]
    },
    {
      "cell_type": "markdown",
      "metadata": {
        "id": "8UzZukW6io05"
      },
      "source": [
        "### 8: Sampler Quantum Neural Network (Sampler QNN)\n",
        "- SamplerQNN estimates probabilities of outcomes by sampling measurements.\n",
        "- It's great for classification because it outputs logits from measurements, rather than expectations."
      ]
    },
    {
      "cell_type": "markdown",
      "metadata": {
        "id": "6ZxafH_dixO_"
      },
      "source": [
        "##### 8.1 Build the Sampler QNN Circuit"
      ]
    },
    {
      "cell_type": "code",
      "execution_count": 43,
      "metadata": {
        "id": "ynsH4xEAi0Yp"
      },
      "outputs": [],
      "source": [
        "from qiskit.circuit.library import ZZFeatureMap, TwoLocal\n",
        "from qiskit.primitives import Sampler\n",
        "from qiskit_machine_learning.neural_networks import SamplerQNN\n",
        "\n",
        "# Define feature map and ansatz\n",
        "feature_map = ZZFeatureMap(num_qubits, reps=1)\n",
        "ansatz = TwoLocal(num_qubits, ['ry', 'rz'], 'cz', reps=1)\n",
        "\n",
        "# Combine into one circuit\n",
        "qc = QuantumCircuit(num_qubits)\n",
        "qc.compose(feature_map, inplace=True)\n",
        "qc.compose(ansatz, inplace=True)\n",
        "\n",
        "# Define parameters\n",
        "input_params = list(feature_map.parameters)\n",
        "weight_params = list(ansatz.parameters)"
      ]
    },
    {
      "cell_type": "markdown",
      "metadata": {
        "id": "_8c9xmN1i4WX"
      },
      "source": [
        "##### 8.2 Create Sampler and SamplerQNN"
      ]
    },
    {
      "cell_type": "code",
      "execution_count": 44,
      "metadata": {
        "id": "8VWxhSenj0V5"
      },
      "outputs": [],
      "source": [
        "def parity(x):\n",
        "    return sum([int(bit) for bit in format(x, f\"0{num_qubits}b\")]) % 2"
      ]
    },
    {
      "cell_type": "code",
      "execution_count": 45,
      "metadata": {
        "id": "Rx7JYM_Qi5ft"
      },
      "outputs": [],
      "source": [
        "sampler = Sampler(options={\"shots\": 1024, \"seed\": 42})\n",
        "\n",
        "sampler_qnn = SamplerQNN(\n",
        "    circuit=qc,\n",
        "    input_params=input_params,\n",
        "    weight_params=weight_params,\n",
        "    sampler=sampler,\n",
        "    interpret=parity,\n",
        "    output_shape=2  # return scalar instead of vector\n",
        ")"
      ]
    },
    {
      "cell_type": "markdown",
      "metadata": {
        "id": "nD15Vt49i_TO"
      },
      "source": [
        "##### 8.2 Wrap in PyTorch & Define Model"
      ]
    },
    {
      "cell_type": "code",
      "execution_count": 46,
      "metadata": {
        "id": "5MrIHlQxjAe4"
      },
      "outputs": [],
      "source": [
        "from qiskit_machine_learning.connectors import TorchConnector\n",
        "import torch.nn as nn\n",
        "\n",
        "# Wrap for PyTorch\n",
        "qnn_layer = TorchConnector(sampler_qnn)\n",
        "\n",
        "class QuantumNetSampler(nn.Module):\n",
        "    def __init__(self):\n",
        "        super().__init__()\n",
        "        self.qnn = qnn_layer\n",
        "        self.output = nn.Sigmoid()\n",
        "\n",
        "    def forward(self, x):\n",
        "        x = self.qnn(x)\n",
        "        return self.output(x[:, 1].unsqueeze(1))  # Extract probability for class 1"
      ]
    },
    {
      "cell_type": "markdown",
      "metadata": {
        "id": "djPTPBe9jE8U"
      },
      "source": [
        "##### 8.4 Train and Evaluate Sampler QNN"
      ]
    },
    {
      "cell_type": "code",
      "execution_count": 47,
      "metadata": {
        "id": "Xo1GwKqvjIM-"
      },
      "outputs": [
        {
          "name": "stdout",
          "output_type": "stream",
          "text": [
            "Epoch 1/10 | Loss: 0.7311\n",
            "Epoch 2/10 | Loss: 0.7311\n",
            "Epoch 3/10 | Loss: 0.7306\n",
            "Epoch 4/10 | Loss: 0.7297\n",
            "Epoch 5/10 | Loss: 0.7285\n",
            "Epoch 6/10 | Loss: 0.7280\n",
            "Epoch 7/10 | Loss: 0.7260\n",
            "Epoch 8/10 | Loss: 0.7260\n",
            "Epoch 9/10 | Loss: 0.7243\n",
            "Epoch 10/10 | Loss: 0.7232\n"
          ]
        }
      ],
      "source": [
        "# Convert to tensors\n",
        "X_train_torch = torch.tensor(X_train, dtype=torch.float32)\n",
        "y_train_torch = torch.tensor(y_train.reshape(-1, 1), dtype=torch.float32)\n",
        "\n",
        "X_test_torch = torch.tensor(X_test, dtype=torch.float32)\n",
        "y_test_torch = torch.tensor(y_test.reshape(-1, 1), dtype=torch.float32)\n",
        "\n",
        "\n",
        "# Train\n",
        "model = QuantumNetSampler()\n",
        "loss_fn = nn.BCELoss()\n",
        "optimizer = torch.optim.Adam(model.parameters(), lr=0.01)\n",
        "\n",
        "epochs = 10\n",
        "for epoch in range(epochs):\n",
        "    optimizer.zero_grad()\n",
        "    y_pred = model(X_train_torch)\n",
        "    loss = loss_fn(y_pred, y_train_torch)\n",
        "    loss.backward()\n",
        "    optimizer.step()\n",
        "    print(f\"Epoch {epoch+1}/{epochs} | Loss: {loss.item():.4f}\")"
      ]
    },
    {
      "cell_type": "markdown",
      "metadata": {
        "id": "UluHrfXSjXrz"
      },
      "source": [
        "##### 8.5 Evaluate Performance"
      ]
    },
    {
      "cell_type": "code",
      "execution_count": 48,
      "metadata": {
        "id": "c3GrcychjY15"
      },
      "outputs": [
        {
          "name": "stdout",
          "output_type": "stream",
          "text": [
            "Classification Report (Sampler QNN):\n",
            "              precision    recall  f1-score   support\n",
            "\n",
            "   Non-Fraud       0.00      0.00      0.00        20\n",
            "       Fraud       0.50      1.00      0.67        20\n",
            "\n",
            "    accuracy                           0.50        40\n",
            "   macro avg       0.25      0.50      0.33        40\n",
            "weighted avg       0.25      0.50      0.33        40\n",
            "\n"
          ]
        },
        {
          "data": {
            "image/png": "[encoded data removed]",
            "text/plain": [
              "<Figure size 640x480 with 2 Axes>"
            ]
          },
          "metadata": {},
          "output_type": "display_data"
        }
      ],
      "source": [
        "from sklearn.metrics import classification_report, confusion_matrix\n",
        "import seaborn as sns\n",
        "import matplotlib.pyplot as plt\n",
        "\n",
        "with torch.no_grad():\n",
        "    y_pred_test = model(X_test_torch)\n",
        "    y_pred_labels = (y_pred_test >= 0.5).int().numpy()\n",
        "\n",
        "print(\"Classification Report (Sampler QNN):\")\n",
        "print(classification_report(y_test, y_pred_labels, target_names=[\"Non-Fraud\", \"Fraud\"]))\n",
        "\n",
        "conf_mat = confusion_matrix(y_test, y_pred_labels)\n",
        "sns.heatmap(conf_mat, annot=True, fmt='d', cmap='Reds',\n",
        "            xticklabels=[\"Predicted Non-Fraud\", \"Predicted Fraud\"],\n",
        "            yticklabels=[\"Actual Non-Fraud\", \"Actual Fraud\"])\n",
        "plt.title(\"Confusion Matrix - Sampler QNN\")\n",
        "plt.xlabel(\"Predicted\")\n",
        "plt.ylabel(\"Actual\")\n",
        "plt.show()"
      ]
    },
    {
      "cell_type": "markdown",
      "metadata": {
        "id": "kbduHHIcqG3e"
      },
      "source": [
        "- Accuracy: 50%\n",
        "- Precision for Fraud: 0.50, Recall: 1.00, F1: 0.67\n",
        "- It’s predicting all samples as Fraud (hence precision 0 for Non-Fraud)\n",
        "\n",
        "This suggests model bias and underfitting, likely due to limited training epochs or circuit depth, which we can tune later."
      ]
    },
    {
      "cell_type": "code",
      "execution_count": 49,
      "metadata": {
        "id": "qbdz1F-TsQx0"
      },
      "outputs": [],
      "source": [
        "# Save predicted labels for comparison\n",
        "y_pred_labels_sampler = y_pred_labels.copy()"
      ]
    },
    {
      "cell_type": "markdown",
      "metadata": {
        "id": "S64JB6KZq0yU"
      },
      "source": [
        "### 9: Performance Comparison Table Across Models & Visualization\n",
        "- Tabulating precision, recall, F1-score, accuracy for all models:\n",
        " - Classical SVM\n",
        " - QSVC (ZFeatureMap)\n",
        " - VQC\n",
        " - Estimator QNN\n",
        " - Sampler QNN\n",
        "- Visualizing performance for easier interpretation (e.g., bar charts or tables)"
      ]
    },
    {
      "cell_type": "code",
      "execution_count": 50,
      "metadata": {
        "id": "oWRhbUb3tVly"
      },
      "outputs": [
        {
          "name": "stdout",
          "output_type": "stream",
          "text": [
            "                    Accuracy  Precision (Fraud)  Recall (Fraud)  \\\n",
            "Classical SVM          0.850           0.937500            0.75   \n",
            "QSVC (ZFeatureMap)     0.925           0.947368            0.90   \n",
            "VQC                    0.750           0.777778            0.70   \n",
            "Estimator QNN          0.500           0.500000            0.40   \n",
            "Sampler QNN            0.500           0.500000            1.00   \n",
            "\n",
            "                    F1-score (Fraud)  \n",
            "Classical SVM               0.833333  \n",
            "QSVC (ZFeatureMap)          0.923077  \n",
            "VQC                         0.736842  \n",
            "Estimator QNN               0.444444  \n",
            "Sampler QNN                 0.666667  \n"
          ]
        },
        {
          "data": {
            "image/png": "[encoded data removed]",
            "text/plain": [
              "<Figure size 1200x700 with 1 Axes>"
            ]
          },
          "metadata": {},
          "output_type": "display_data"
        }
      ],
      "source": [
        "import pandas as pd\n",
        "from sklearn.metrics import precision_score, recall_score, f1_score, accuracy_score\n",
        "import matplotlib.pyplot as plt\n",
        "\n",
        "def get_metrics(y_true, y_pred):\n",
        "    return {\n",
        "        'Accuracy': accuracy_score(y_true, y_pred),\n",
        "        'Precision (Fraud)': precision_score(y_true, y_pred, pos_label=1),\n",
        "        'Recall (Fraud)': recall_score(y_true, y_pred, pos_label=1),\n",
        "        'F1-score (Fraud)': f1_score(y_true, y_pred, pos_label=1)\n",
        "    }\n",
        "\n",
        "results = {\n",
        "    'Classical SVM': get_metrics(y_test, y_pred_classical),\n",
        "    'QSVC (ZFeatureMap)': get_metrics(y_test, y_pred_qsvc),\n",
        "    'VQC': get_metrics(y_test, y_pred_vqc),\n",
        "    'Estimator QNN': get_metrics(y_test, y_pred_labels_estimator),\n",
        "    'Sampler QNN': get_metrics(y_test, y_pred_labels_sampler)\n",
        "}\n",
        "\n",
        "results_df = pd.DataFrame(results).T\n",
        "print(results_df)\n",
        "\n",
        "# Plotting\n",
        "results_df.plot(kind='bar', figsize=(12, 7), ylim=(0, 1), title='Model Performance Comparison')\n",
        "plt.ylabel('Score')\n",
        "plt.grid(axis='y')\n",
        "plt.show()"
      ]
    },
    {
      "cell_type": "markdown",
      "metadata": {
        "id": "I5wJwQv6uv4K"
      },
      "source": [
        "- QSVC with ZFeatureMap outperformed the classical SVM baseline across all metrics.\n",
        "- Variational and Neural Network-based quantum models showed moderate to low performance on this dataset with current settings.\n",
        "- Estimator and Sampler QNNs had perfect recall but very low precision — likely over-predicting fraud, which lowers accuracy.\n",
        "- Further tuning of ansatz complexity, optimizer settings, and training epochs may boost QNN models."
      ]
    },
    {
      "cell_type": "markdown",
      "metadata": {
        "id": "zz8jGKbuwFJs"
      },
      "source": [
        "### 10: Optimization & Enhancements: A Sandbox"
      ]
    },
    {
      "cell_type": "markdown",
      "metadata": {
        "id": "7J-NfYqi2Yb5"
      },
      "source": [
        "#### Optimizing QSVC — Self-Contained Experiment"
      ]
    },
    {
      "cell_type": "markdown",
      "metadata": {
        "id": "QlCazG5_z8Tb"
      },
      "source": [
        "##### 10.0: Import Dependencies (already done above, but for safety)"
      ]
    },
    {
      "cell_type": "code",
      "execution_count": 51,
      "metadata": {
        "id": "LQUZGPAKz7px"
      },
      "outputs": [],
      "source": [
        "from qiskit.circuit.library import ZFeatureMap, ZZFeatureMap, PauliFeatureMap\n",
        "from qiskit_machine_learning.kernels import QuantumKernel\n",
        "from qiskit_machine_learning.algorithms.classifiers import QSVC\n",
        "from qiskit.utils import QuantumInstance\n",
        "from qiskit import Aer\n",
        "from sklearn.decomposition import PCA\n",
        "from sklearn.metrics import classification_report, confusion_matrix\n",
        "import seaborn as sns\n",
        "import matplotlib.pyplot as plt"
      ]
    },
    {
      "cell_type": "markdown",
      "metadata": {
        "id": "oDRay5dkEN14"
      },
      "source": [
        "##### 10.1: Tune Feature Map — Add Reps / Try Pauli Map"
      ]
    },
    {
      "cell_type": "code",
      "execution_count": 52,
      "metadata": {
        "id": "R6-yJQtmENio"
      },
      "outputs": [],
      "source": [
        "# Option 1: Enhanced ZFeatureMap\n",
        "feature_map_opt = ZFeatureMap(feature_dimension=X_train.shape[1], reps=3)\n",
        "\n",
        "# Option 2: Try a more expressive feature map\n",
        "# feature_map_opt = ZZFeatureMap(feature_dimension=X_train.shape[1], reps=2)\n",
        "# feature_map_opt = PauliFeatureMap(feature_dimension=X_train.shape[1], paulis=['X', 'Y', 'Z', 'ZZ'], reps=2)"
      ]
    },
    {
      "cell_type": "markdown",
      "metadata": {
        "id": "yVKXfX_XESB2"
      },
      "source": [
        "##### 10.2: Quantum Kernel with Optimized Feature Map"
      ]
    },
    {
      "cell_type": "code",
      "execution_count": 53,
      "metadata": {
        "id": "VWIb6qasEcUW"
      },
      "outputs": [],
      "source": [
        "backend_opt = Aer.get_backend(\"qasm_simulator\")\n",
        "qi_opt = QuantumInstance(backend=backend_opt, shots=1024, seed_simulator=42, seed_transpiler=42)\n",
        "\n",
        "quantum_kernel_opt = QuantumKernel(feature_map=feature_map_opt, quantum_instance=qi_opt)"
      ]
    },
    {
      "cell_type": "markdown",
      "metadata": {
        "id": "Fq7Lhk9GEhc0"
      },
      "source": [
        "##### 10.3: (Optional) PCA for Dimensionality Reduction (e.g., 3 qubits)"
      ]
    },
    {
      "cell_type": "code",
      "execution_count": 54,
      "metadata": {
        "id": "sLdpfEzQEivj"
      },
      "outputs": [],
      "source": [
        "# Reduce to 3 dimensions (qubits)\n",
        "pca = PCA(n_components=3)\n",
        "X_train_opt = pca.fit_transform(X_train)\n",
        "X_test_opt = pca.transform(X_test)\n"
      ]
    },
    {
      "cell_type": "markdown",
      "metadata": {
        "id": "XiSnnwUmErrr"
      },
      "source": [
        "##### 10.4: Train Optimized QSVC"
      ]
    },
    {
      "cell_type": "code",
      "execution_count": 55,
      "metadata": {
        "id": "Im57VZSoEt81"
      },
      "outputs": [],
      "source": [
        "qsvc_opt = QSVC(quantum_kernel=quantum_kernel_opt)\n",
        "qsvc_opt.fit(X_train_opt, y_train)\n",
        "y_pred_qsvc_opt = qsvc_opt.predict(X_test_opt)\n"
      ]
    },
    {
      "cell_type": "markdown",
      "metadata": {
        "id": "exZAYpz4ExRJ"
      },
      "source": [
        "##### 10.5: Evaluate & Compare Original vs Optimized QSVC"
      ]
    },
    {
      "cell_type": "code",
      "execution_count": 56,
      "metadata": {
        "id": "cqgm7RZKEydm"
      },
      "outputs": [
        {
          "name": "stdout",
          "output_type": "stream",
          "text": [
            "🔹 Original QSVC (Step 5):\n",
            "              precision    recall  f1-score   support\n",
            "\n",
            "   Non-Fraud       0.90      0.95      0.93        20\n",
            "       Fraud       0.95      0.90      0.92        20\n",
            "\n",
            "    accuracy                           0.93        40\n",
            "   macro avg       0.93      0.93      0.92        40\n",
            "weighted avg       0.93      0.93      0.92        40\n",
            "\n",
            "\n",
            "🔸 Optimized QSVC:\n",
            "              precision    recall  f1-score   support\n",
            "\n",
            "   Non-Fraud       0.70      0.95      0.81        20\n",
            "       Fraud       0.92      0.60      0.73        20\n",
            "\n",
            "    accuracy                           0.78        40\n",
            "   macro avg       0.81      0.77      0.77        40\n",
            "weighted avg       0.81      0.78      0.77        40\n",
            "\n"
          ]
        },
        {
          "data": {
            "image/png": "[encoded data removed]",
            "text/plain": [
              "<Figure size 640x480 with 2 Axes>"
            ]
          },
          "metadata": {},
          "output_type": "display_data"
        }
      ],
      "source": [
        "print(\"🔹 Original QSVC (Step 5):\")\n",
        "print(classification_report(y_test, y_pred_qsvc, target_names=[\"Non-Fraud\", \"Fraud\"]))\n",
        "\n",
        "print(\"\\n🔸 Optimized QSVC:\")\n",
        "print(classification_report(y_test, y_pred_qsvc_opt, target_names=[\"Non-Fraud\", \"Fraud\"]))\n",
        "\n",
        "# Optional: Confusion Matrix\n",
        "conf_mat = confusion_matrix(y_test, y_pred_qsvc_opt)\n",
        "sns.heatmap(conf_mat, annot=True, fmt='d', cmap='Blues',\n",
        "            xticklabels=[\"Predicted Non-Fraud\", \"Predicted Fraud\"],\n",
        "            yticklabels=[\"Actual Non-Fraud\", \"Actual Fraud\"])\n",
        "plt.title(\"Confusion Matrix - Optimized QSVC\")\n",
        "plt.xlabel(\"Predicted\")\n",
        "plt.ylabel(\"Actual\")\n",
        "plt.show()"
      ]
    },
    {
      "cell_type": "markdown",
      "metadata": {
        "id": "dMaqjjekPNdI"
      },
      "source": [
        "### QSVC Optimization Strategy #2: Using"
      ]
    },
    {
      "cell_type": "markdown",
      "metadata": {
        "id": "GlyNonYjPQpO"
      },
      "source": [
        " 1. Define PauliFeatureMap"
      ]
    },
    {
      "cell_type": "code",
      "execution_count": 57,
      "metadata": {
        "id": "mjTGTrMSPRle"
      },
      "outputs": [],
      "source": [
        "from qiskit.circuit.library import PauliFeatureMap\n",
        "\n",
        "# More expressive Pauli map (you can try other pauli sets too)\n",
        "feature_map_pauli = PauliFeatureMap(\n",
        "    feature_dimension=X_train.shape[1],  # should be 4\n",
        "    paulis=['X', 'Y', 'Z', 'ZZ'],\n",
        "    reps=2,\n",
        "    entanglement='full'\n",
        ")\n"
      ]
    },
    {
      "cell_type": "markdown",
      "metadata": {
        "id": "57fluoYOPbZ5"
      },
      "source": [
        "2. Setup Quantum Kernel"
      ]
    },
    {
      "cell_type": "code",
      "execution_count": 58,
      "metadata": {
        "id": "TK2Br43ZPdB6"
      },
      "outputs": [],
      "source": [
        "from qiskit_machine_learning.kernels import QuantumKernel\n",
        "from qiskit.utils import QuantumInstance\n",
        "from qiskit import Aer\n",
        "\n",
        "backend_pauli = Aer.get_backend(\"qasm_simulator\")\n",
        "qi_pauli = QuantumInstance(backend=backend_pauli, shots=1024, seed_simulator=42, seed_transpiler=42)\n",
        "\n",
        "quantum_kernel_pauli = QuantumKernel(feature_map=feature_map_pauli, quantum_instance=qi_pauli)\n"
      ]
    },
    {
      "cell_type": "code",
      "execution_count": 59,
      "metadata": {
        "id": "TOCd_i8ZPhWR"
      },
      "outputs": [],
      "source": [
        "X_train_pauli = X_train\n",
        "X_test_pauli = X_test\n"
      ]
    },
    {
      "cell_type": "markdown",
      "metadata": {
        "id": "F-ehTNLVPl1X"
      },
      "source": [
        "3. Train Pauli-QSVC"
      ]
    },
    {
      "cell_type": "code",
      "execution_count": 60,
      "metadata": {
        "id": "eAWZHoQoPlJG"
      },
      "outputs": [],
      "source": [
        "from qiskit_machine_learning.algorithms.classifiers import QSVC\n",
        "\n",
        "qsvc_pauli = QSVC(quantum_kernel=quantum_kernel_pauli)\n",
        "qsvc_pauli.fit(X_train_pauli, y_train)\n",
        "y_pred_qsvc_pauli = qsvc_pauli.predict(X_test_pauli)\n"
      ]
    },
    {
      "cell_type": "markdown",
      "metadata": {
        "id": "xT_BxEEDPsI5"
      },
      "source": [
        "4. Evaluate and Compare"
      ]
    },
    {
      "cell_type": "code",
      "execution_count": 61,
      "metadata": {
        "id": "RYX5W_hhPtx3"
      },
      "outputs": [
        {
          "name": "stdout",
          "output_type": "stream",
          "text": [
            "🔸 QSVC with PauliFeatureMap:\n",
            "              precision    recall  f1-score   support\n",
            "\n",
            "   Non-Fraud       0.83      1.00      0.91        20\n",
            "       Fraud       1.00      0.80      0.89        20\n",
            "\n",
            "    accuracy                           0.90        40\n",
            "   macro avg       0.92      0.90      0.90        40\n",
            "weighted avg       0.92      0.90      0.90        40\n",
            "\n"
          ]
        },
        {
          "data": {
            "image/png": "[encoded data removed]",
            "text/plain": [
              "<Figure size 640x480 with 2 Axes>"
            ]
          },
          "metadata": {},
          "output_type": "display_data"
        }
      ],
      "source": [
        "from sklearn.metrics import classification_report, confusion_matrix\n",
        "import seaborn as sns\n",
        "import matplotlib.pyplot as plt\n",
        "\n",
        "print(\"🔸 QSVC with PauliFeatureMap:\")\n",
        "print(classification_report(y_test, y_pred_qsvc_pauli, target_names=[\"Non-Fraud\", \"Fraud\"]))\n",
        "\n",
        "conf_mat = confusion_matrix(y_test, y_pred_qsvc_pauli)\n",
        "sns.heatmap(conf_mat, annot=True, fmt='d', cmap='Purples',\n",
        "            xticklabels=[\"Predicted Non-Fraud\", \"Predicted Fraud\"],\n",
        "            yticklabels=[\"Actual Non-Fraud\", \"Actual Fraud\"])\n",
        "plt.title(\"Confusion Matrix - QSVC (PauliFeatureMap)\")\n",
        "plt.xlabel(\"Predicted\")\n",
        "plt.ylabel(\"Actual\")\n",
        "plt.show()\n"
      ]
    },
    {
      "cell_type": "markdown",
      "metadata": {
        "id": "eI-Z2vVDVaID"
      },
      "source": [
        "### Compare Both Classes Across All Models"
      ]
    },
    {
      "cell_type": "code",
      "execution_count": 62,
      "metadata": {
        "id": "LrAfjqYFR9U-"
      },
      "outputs": [],
      "source": [
        "from sklearn.metrics import accuracy_score, precision_score, recall_score, f1_score\n",
        "\n",
        "def get_full_metrics(y_true, y_pred):\n",
        "    return {\n",
        "        'Accuracy': accuracy_score(y_true, y_pred),\n",
        "\n",
        "        'Precision (Non-Fraud)': precision_score(y_true, y_pred, pos_label=0),\n",
        "        'Recall (Non-Fraud)': recall_score(y_true, y_pred, pos_label=0),\n",
        "        'F1-score (Non-Fraud)': f1_score(y_true, y_pred, pos_label=0),\n",
        "\n",
        "        'Precision (Fraud)': precision_score(y_true, y_pred, pos_label=1),\n",
        "        'Recall (Fraud)': recall_score(y_true, y_pred, pos_label=1),\n",
        "        'F1-score (Fraud)': f1_score(y_true, y_pred, pos_label=1),\n",
        "    }\n"
      ]
    },
    {
      "cell_type": "code",
      "execution_count": 63,
      "metadata": {
        "id": "TvwhumoXSRc5"
      },
      "outputs": [],
      "source": [
        "results = {\n",
        "    'Classical SVM': get_full_metrics(y_test, y_pred_classical),\n",
        "    'QSVC (ZFeatureMap)': get_full_metrics(y_test, y_pred_qsvc),\n",
        "    'VQC': get_full_metrics(y_test, y_pred_vqc),\n",
        "    'Estimator QNN': get_full_metrics(y_test, y_pred_labels_estimator),\n",
        "    'Sampler QNN': get_full_metrics(y_test, y_pred_labels_sampler),\n",
        "    'QSVC (PauliFeatureMap)': get_full_metrics(y_test, y_pred_qsvc_pauli)  # Optional\n",
        "}\n"
      ]
    },
    {
      "cell_type": "code",
      "execution_count": 64,
      "metadata": {
        "id": "opak1aA1SVoT"
      },
      "outputs": [
        {
          "name": "stdout",
          "output_type": "stream",
          "text": [
            "                        Accuracy  Precision (Non-Fraud)  Recall (Non-Fraud)  \\\n",
            "Classical SVM              0.850               0.791667                0.95   \n",
            "QSVC (ZFeatureMap)         0.925               0.904762                0.95   \n",
            "VQC                        0.750               0.727273                0.80   \n",
            "Estimator QNN              0.500               0.500000                0.60   \n",
            "Sampler QNN                0.500               0.000000                0.00   \n",
            "QSVC (PauliFeatureMap)     0.900               0.833333                1.00   \n",
            "\n",
            "                        F1-score (Non-Fraud)  Precision (Fraud)  \\\n",
            "Classical SVM                       0.863636           0.937500   \n",
            "QSVC (ZFeatureMap)                  0.926829           0.947368   \n",
            "VQC                                 0.761905           0.777778   \n",
            "Estimator QNN                       0.545455           0.500000   \n",
            "Sampler QNN                         0.000000           0.500000   \n",
            "QSVC (PauliFeatureMap)              0.909091           1.000000   \n",
            "\n",
            "                        Recall (Fraud)  F1-score (Fraud)  \n",
            "Classical SVM                     0.75          0.833333  \n",
            "QSVC (ZFeatureMap)                0.90          0.923077  \n",
            "VQC                               0.70          0.736842  \n",
            "Estimator QNN                     0.40          0.444444  \n",
            "Sampler QNN                       1.00          0.666667  \n",
            "QSVC (PauliFeatureMap)            0.80          0.888889  \n"
          ]
        },
        {
          "data": {
            "image/png": "[encoded data removed]",
            "text/plain": [
              "<Figure size 1200x600 with 1 Axes>"
            ]
          },
          "metadata": {},
          "output_type": "display_data"
        },
        {
          "data": {
            "image/png": "[encoded data removed]",
            "text/plain": [
              "<Figure size 1200x600 with 1 Axes>"
            ]
          },
          "metadata": {},
          "output_type": "display_data"
        }
      ],
      "source": [
        "import pandas as pd\n",
        "import matplotlib.pyplot as plt\n",
        "\n",
        "results_df = pd.DataFrame(results).T\n",
        "print(results_df)\n",
        "\n",
        "# Optional: Plot grouped bars for Fraud class\n",
        "results_df[['Precision (Fraud)', 'Recall (Fraud)', 'F1-score (Fraud)']].plot(\n",
        "    kind='bar', figsize=(12,6), ylim=(0,1), title='Fraud Detection Performance (Class 1)'\n",
        ")\n",
        "plt.ylabel('Score')\n",
        "plt.grid(True)\n",
        "plt.show()\n",
        "\n",
        "# Optional: Plot grouped bars for Non-Fraud class\n",
        "results_df[['Precision (Non-Fraud)', 'Recall (Non-Fraud)', 'F1-score (Non-Fraud)']].plot(\n",
        "    kind='bar', figsize=(12,6), ylim=(0,1), title='Non-Fraud Detection Performance (Class 0)'\n",
        ")\n",
        "plt.ylabel('Score')\n",
        "plt.grid(True)\n",
        "plt.show()\n"
      ]
    },
    {
      "cell_type": "markdown",
      "metadata": {
        "id": "pIoH1UT7Vpo6"
      },
      "source": [
        "### 10. Optimization for VQC\n",
        "Goal:\n",
        "- Improve VQC's accuracy and F1-score (initial was ~67.5% accuracy, F1 ≈ 66%)\n",
        "- Tackle known issues: sensitivity to circuit depth, optimizer, and convergence\n",
        "\n"
      ]
    },
    {
      "cell_type": "markdown",
      "metadata": {
        "id": "IIDOtXg_VuMN"
      },
      "source": [
        "| Strategy                                       | Code/Impact                                |\n",
        "| ---------------------------------------------- | ------------------------------------------ |\n",
        "| 1. **Deeper ansatz** with more reps (`reps=5`) | Improves expressibility                    |\n",
        "| 2. **SPSA optimizer**                          | Robust to noise, good for quantum circuits |\n",
        "| 3. **Change feature map** (e.g., ZZFeatureMap) | May better encode correlations             |\n",
        "| 4. **Higher iterations** (`maxiter=300`)       | Allows better convergence                  |\n"
      ]
    },
    {
      "cell_type": "markdown",
      "metadata": {
        "id": "byo4NZ_2VzJp"
      },
      "source": [
        "##### 10.1 Define Deeper Ansatz & New Feature Map"
      ]
    },
    {
      "cell_type": "code",
      "execution_count": 65,
      "metadata": {
        "id": "Qm_goaKxVvws"
      },
      "outputs": [],
      "source": [
        "from qiskit.circuit.library import TwoLocal, ZZFeatureMap\n",
        "from qiskit.algorithms.optimizers import SPSA\n",
        "from qiskit_machine_learning.algorithms.classifiers import VQC\n",
        "\n",
        "# Updated feature map & ansatz\n",
        "feature_map_vqc_opt = ZZFeatureMap(num_qubits, reps=2)\n",
        "ansatz_vqc_opt = TwoLocal(num_qubits, ['ry', 'rz'], 'cz', reps=5, entanglement='full')"
      ]
    },
    {
      "cell_type": "markdown",
      "metadata": {
        "id": "9dz5N7_fV5u8"
      },
      "source": [
        "##### 10.2 SPSA Optimizer"
      ]
    },
    {
      "cell_type": "code",
      "execution_count": 66,
      "metadata": {
        "id": "xaedF-D3WDVt"
      },
      "outputs": [],
      "source": [
        "optimizer_vqc = SPSA(maxiter=300)"
      ]
    },
    {
      "cell_type": "markdown",
      "metadata": {
        "id": "C0KWRO2KV9tK"
      },
      "source": [
        "##### 10.3 Setup VQC with Optimizer and Circuit"
      ]
    },
    {
      "cell_type": "code",
      "execution_count": 67,
      "metadata": {
        "id": "DFa_x1-hWBKb"
      },
      "outputs": [],
      "source": [
        "vqc_opt = VQC(\n",
        "    feature_map=feature_map_vqc_opt,\n",
        "    ansatz=ansatz_vqc_opt,\n",
        "    optimizer=optimizer_vqc,\n",
        "    quantum_instance=qi  # from earlier setup\n",
        ")"
      ]
    },
    {
      "cell_type": "markdown",
      "metadata": {
        "id": "okTGcjzkWIDz"
      },
      "source": [
        "##### 10.4 Train & Predict"
      ]
    },
    {
      "cell_type": "code",
      "execution_count": 68,
      "metadata": {
        "id": "Wa1uCYHPWKrD"
      },
      "outputs": [
        {
          "ename": "KeyboardInterrupt",
          "evalue": "",
          "output_type": "error",
          "traceback": [
            "\u001b[1;31m---------------------------------------------------------------------------\u001b[0m",
            "\u001b[1;31mKeyboardInterrupt\u001b[0m                         Traceback (most recent call last)",
            "Cell \u001b[1;32mIn[68], line 1\u001b[0m\n\u001b[1;32m----> 1\u001b[0m \u001b[43mvqc_opt\u001b[49m\u001b[38;5;241;43m.\u001b[39;49m\u001b[43mfit\u001b[49m\u001b[43m(\u001b[49m\u001b[43mX_train\u001b[49m\u001b[43m,\u001b[49m\u001b[43m \u001b[49m\u001b[43my_train\u001b[49m\u001b[43m)\u001b[49m\n\u001b[0;32m      2\u001b[0m y_pred_vqc_opt \u001b[38;5;241m=\u001b[39m vqc_opt\u001b[38;5;241m.\u001b[39mpredict(X_test)\n",
            "File \u001b[1;32mc:\\Project\\venv\\lib\\site-packages\\qiskit_machine_learning\\algorithms\\trainable_model.py:199\u001b[0m, in \u001b[0;36mTrainableModel.fit\u001b[1;34m(self, X, y)\u001b[0m\n\u001b[0;32m    196\u001b[0m \u001b[38;5;28;01mif\u001b[39;00m \u001b[38;5;129;01mnot\u001b[39;00m \u001b[38;5;28mself\u001b[39m\u001b[38;5;241m.\u001b[39m_warm_start:\n\u001b[0;32m    197\u001b[0m     \u001b[38;5;28mself\u001b[39m\u001b[38;5;241m.\u001b[39m_fit_result \u001b[38;5;241m=\u001b[39m \u001b[38;5;28;01mNone\u001b[39;00m\n\u001b[1;32m--> 199\u001b[0m \u001b[38;5;28mself\u001b[39m\u001b[38;5;241m.\u001b[39m_fit_result \u001b[38;5;241m=\u001b[39m \u001b[38;5;28;43mself\u001b[39;49m\u001b[38;5;241;43m.\u001b[39;49m\u001b[43m_fit_internal\u001b[49m\u001b[43m(\u001b[49m\u001b[43mX\u001b[49m\u001b[43m,\u001b[49m\u001b[43m \u001b[49m\u001b[43my\u001b[49m\u001b[43m)\u001b[49m\n\u001b[0;32m    200\u001b[0m \u001b[38;5;28;01mreturn\u001b[39;00m \u001b[38;5;28mself\u001b[39m\n",
            "File \u001b[1;32mc:\\Project\\venv\\lib\\site-packages\\qiskit_machine_learning\\algorithms\\classifiers\\vqc.py:193\u001b[0m, in \u001b[0;36mVQC._fit_internal\u001b[1;34m(self, X, y)\u001b[0m\n\u001b[0;32m    190\u001b[0m     \u001b[38;5;28mself\u001b[39m\u001b[38;5;241m.\u001b[39m_neural_network\u001b[38;5;241m.\u001b[39mset_interpret(\u001b[38;5;28mself\u001b[39m\u001b[38;5;241m.\u001b[39m_get_interpret(num_classes), num_classes)\n\u001b[0;32m    192\u001b[0m function \u001b[38;5;241m=\u001b[39m \u001b[38;5;28mself\u001b[39m\u001b[38;5;241m.\u001b[39m_create_objective(X, y)\n\u001b[1;32m--> 193\u001b[0m \u001b[38;5;28;01mreturn\u001b[39;00m \u001b[38;5;28;43mself\u001b[39;49m\u001b[38;5;241;43m.\u001b[39;49m\u001b[43m_minimize\u001b[49m\u001b[43m(\u001b[49m\u001b[43mfunction\u001b[49m\u001b[43m)\u001b[49m\n",
            "File \u001b[1;32mc:\\Project\\venv\\lib\\site-packages\\qiskit_machine_learning\\algorithms\\trainable_model.py:295\u001b[0m, in \u001b[0;36mTrainableModel._minimize\u001b[1;34m(self, function)\u001b[0m\n\u001b[0;32m    291\u001b[0m     optimizer_result \u001b[38;5;241m=\u001b[39m \u001b[38;5;28mself\u001b[39m\u001b[38;5;241m.\u001b[39m_optimizer(\n\u001b[0;32m    292\u001b[0m         fun\u001b[38;5;241m=\u001b[39mobjective, x0\u001b[38;5;241m=\u001b[39minitial_point, jac\u001b[38;5;241m=\u001b[39mfunction\u001b[38;5;241m.\u001b[39mgradient\n\u001b[0;32m    293\u001b[0m     )\n\u001b[0;32m    294\u001b[0m \u001b[38;5;28;01melse\u001b[39;00m:\n\u001b[1;32m--> 295\u001b[0m     optimizer_result \u001b[38;5;241m=\u001b[39m \u001b[38;5;28;43mself\u001b[39;49m\u001b[38;5;241;43m.\u001b[39;49m\u001b[43m_optimizer\u001b[49m\u001b[38;5;241;43m.\u001b[39;49m\u001b[43mminimize\u001b[49m\u001b[43m(\u001b[49m\n\u001b[0;32m    296\u001b[0m \u001b[43m        \u001b[49m\u001b[43mfun\u001b[49m\u001b[38;5;241;43m=\u001b[39;49m\u001b[43mobjective\u001b[49m\u001b[43m,\u001b[49m\n\u001b[0;32m    297\u001b[0m \u001b[43m        \u001b[49m\u001b[43mx0\u001b[49m\u001b[38;5;241;43m=\u001b[39;49m\u001b[43minitial_point\u001b[49m\u001b[43m,\u001b[49m\n\u001b[0;32m    298\u001b[0m \u001b[43m        \u001b[49m\u001b[43mjac\u001b[49m\u001b[38;5;241;43m=\u001b[39;49m\u001b[43mfunction\u001b[49m\u001b[38;5;241;43m.\u001b[39;49m\u001b[43mgradient\u001b[49m\u001b[43m,\u001b[49m\n\u001b[0;32m    299\u001b[0m \u001b[43m    \u001b[49m\u001b[43m)\u001b[49m\n\u001b[0;32m    300\u001b[0m \u001b[38;5;28;01mreturn\u001b[39;00m optimizer_result\n",
            "File \u001b[1;32mc:\\Project\\venv\\lib\\site-packages\\qiskit\\algorithms\\optimizers\\spsa.py:558\u001b[0m, in \u001b[0;36mSPSA.minimize\u001b[1;34m(self, fun, x0, jac, bounds)\u001b[0m\n\u001b[0;32m    556\u001b[0m iteration_start \u001b[38;5;241m=\u001b[39m time()\n\u001b[0;32m    557\u001b[0m \u001b[38;5;66;03m# compute update\u001b[39;00m\n\u001b[1;32m--> 558\u001b[0m fx_estimate, update \u001b[38;5;241m=\u001b[39m \u001b[38;5;28;43mself\u001b[39;49m\u001b[38;5;241;43m.\u001b[39;49m\u001b[43m_compute_update\u001b[49m\u001b[43m(\u001b[49m\u001b[43mfun\u001b[49m\u001b[43m,\u001b[49m\u001b[43m \u001b[49m\u001b[43mx\u001b[49m\u001b[43m,\u001b[49m\u001b[43m \u001b[49m\u001b[43mk\u001b[49m\u001b[43m,\u001b[49m\u001b[43m \u001b[49m\u001b[38;5;28;43mnext\u001b[39;49m\u001b[43m(\u001b[49m\u001b[43meps\u001b[49m\u001b[43m)\u001b[49m\u001b[43m,\u001b[49m\u001b[43m \u001b[49m\u001b[43mlse_solver\u001b[49m\u001b[43m)\u001b[49m\n\u001b[0;32m    560\u001b[0m \u001b[38;5;66;03m# trust region\u001b[39;00m\n\u001b[0;32m    561\u001b[0m \u001b[38;5;28;01mif\u001b[39;00m \u001b[38;5;28mself\u001b[39m\u001b[38;5;241m.\u001b[39mtrust_region:\n",
            "File \u001b[1;32mc:\\Project\\venv\\lib\\site-packages\\qiskit\\algorithms\\optimizers\\spsa.py:489\u001b[0m, in \u001b[0;36mSPSA._compute_update\u001b[1;34m(self, loss, x, k, eps, lse_solver)\u001b[0m\n\u001b[0;32m    486\u001b[0m     num_samples \u001b[38;5;241m=\u001b[39m \u001b[38;5;28mself\u001b[39m\u001b[38;5;241m.\u001b[39mresamplings\n\u001b[0;32m    488\u001b[0m \u001b[38;5;66;03m# accumulate the number of samples\u001b[39;00m\n\u001b[1;32m--> 489\u001b[0m value, gradient, hessian \u001b[38;5;241m=\u001b[39m \u001b[38;5;28;43mself\u001b[39;49m\u001b[38;5;241;43m.\u001b[39;49m\u001b[43m_point_estimate\u001b[49m\u001b[43m(\u001b[49m\u001b[43mloss\u001b[49m\u001b[43m,\u001b[49m\u001b[43m \u001b[49m\u001b[43mx\u001b[49m\u001b[43m,\u001b[49m\u001b[43m \u001b[49m\u001b[43meps\u001b[49m\u001b[43m,\u001b[49m\u001b[43m \u001b[49m\u001b[43mnum_samples\u001b[49m\u001b[43m)\u001b[49m\n\u001b[0;32m    491\u001b[0m \u001b[38;5;66;03m# precondition gradient with inverse Hessian, if specified\u001b[39;00m\n\u001b[0;32m    492\u001b[0m \u001b[38;5;28;01mif\u001b[39;00m \u001b[38;5;28mself\u001b[39m\u001b[38;5;241m.\u001b[39msecond_order:\n",
            "File \u001b[1;32mc:\\Project\\venv\\lib\\site-packages\\qiskit\\algorithms\\optimizers\\spsa.py:466\u001b[0m, in \u001b[0;36mSPSA._point_estimate\u001b[1;34m(self, loss, x, eps, num_samples)\u001b[0m\n\u001b[0;32m    463\u001b[0m delta1 \u001b[38;5;241m=\u001b[39m deltas1[i]\n\u001b[0;32m    464\u001b[0m delta2 \u001b[38;5;241m=\u001b[39m deltas2[i] \u001b[38;5;28;01mif\u001b[39;00m \u001b[38;5;28mself\u001b[39m\u001b[38;5;241m.\u001b[39msecond_order \u001b[38;5;28;01melse\u001b[39;00m \u001b[38;5;28;01mNone\u001b[39;00m\n\u001b[1;32m--> 466\u001b[0m value_sample, gradient_sample, hessian_sample \u001b[38;5;241m=\u001b[39m \u001b[38;5;28;43mself\u001b[39;49m\u001b[38;5;241;43m.\u001b[39;49m\u001b[43m_point_sample\u001b[49m\u001b[43m(\u001b[49m\n\u001b[0;32m    467\u001b[0m \u001b[43m    \u001b[49m\u001b[43mloss\u001b[49m\u001b[43m,\u001b[49m\u001b[43m \u001b[49m\u001b[43mx\u001b[49m\u001b[43m,\u001b[49m\u001b[43m \u001b[49m\u001b[43meps\u001b[49m\u001b[43m,\u001b[49m\u001b[43m \u001b[49m\u001b[43mdelta1\u001b[49m\u001b[43m,\u001b[49m\u001b[43m \u001b[49m\u001b[43mdelta2\u001b[49m\n\u001b[0;32m    468\u001b[0m \u001b[43m\u001b[49m\u001b[43m)\u001b[49m\n\u001b[0;32m    469\u001b[0m value_estimate \u001b[38;5;241m+\u001b[39m\u001b[38;5;241m=\u001b[39m value_sample\n\u001b[0;32m    470\u001b[0m gradient_estimate \u001b[38;5;241m+\u001b[39m\u001b[38;5;241m=\u001b[39m gradient_sample\n",
            "File \u001b[1;32mc:\\Project\\venv\\lib\\site-packages\\qiskit\\algorithms\\optimizers\\spsa.py:427\u001b[0m, in \u001b[0;36mSPSA._point_sample\u001b[1;34m(self, loss, x, eps, delta1, delta2)\u001b[0m\n\u001b[0;32m    424\u001b[0m     \u001b[38;5;28mself\u001b[39m\u001b[38;5;241m.\u001b[39m_nfev \u001b[38;5;241m+\u001b[39m\u001b[38;5;241m=\u001b[39m \u001b[38;5;241m2\u001b[39m\n\u001b[0;32m    426\u001b[0m \u001b[38;5;66;03m# batch evaluate the points (if possible)\u001b[39;00m\n\u001b[1;32m--> 427\u001b[0m values \u001b[38;5;241m=\u001b[39m \u001b[43m_batch_evaluate\u001b[49m\u001b[43m(\u001b[49m\u001b[43mloss\u001b[49m\u001b[43m,\u001b[49m\u001b[43m \u001b[49m\u001b[43mpoints\u001b[49m\u001b[43m,\u001b[49m\u001b[43m \u001b[49m\u001b[38;5;28;43mself\u001b[39;49m\u001b[38;5;241;43m.\u001b[39;49m\u001b[43m_max_evals_grouped\u001b[49m\u001b[43m)\u001b[49m\n\u001b[0;32m    429\u001b[0m plus \u001b[38;5;241m=\u001b[39m values[\u001b[38;5;241m0\u001b[39m]\n\u001b[0;32m    430\u001b[0m minus \u001b[38;5;241m=\u001b[39m values[\u001b[38;5;241m1\u001b[39m]\n",
            "File \u001b[1;32mc:\\Project\\venv\\lib\\site-packages\\qiskit\\algorithms\\optimizers\\spsa.py:728\u001b[0m, in \u001b[0;36m_batch_evaluate\u001b[1;34m(function, points, max_evals_grouped, unpack_points)\u001b[0m\n\u001b[0;32m    725\u001b[0m \u001b[38;5;66;03m# if the function cannot handle lists of points as input, cover this case immediately\u001b[39;00m\n\u001b[0;32m    726\u001b[0m \u001b[38;5;28;01mif\u001b[39;00m max_evals_grouped \u001b[38;5;129;01mis\u001b[39;00m \u001b[38;5;28;01mNone\u001b[39;00m \u001b[38;5;129;01mor\u001b[39;00m max_evals_grouped \u001b[38;5;241m==\u001b[39m \u001b[38;5;241m1\u001b[39m:\n\u001b[0;32m    727\u001b[0m     \u001b[38;5;66;03m# support functions with multiple arguments where the points are given in a tuple\u001b[39;00m\n\u001b[1;32m--> 728\u001b[0m     \u001b[38;5;28;01mreturn\u001b[39;00m [\n\u001b[0;32m    729\u001b[0m         function(\u001b[38;5;241m*\u001b[39mpoint) \u001b[38;5;28;01mif\u001b[39;00m \u001b[38;5;28misinstance\u001b[39m(point, \u001b[38;5;28mtuple\u001b[39m) \u001b[38;5;28;01melse\u001b[39;00m function(point) \u001b[38;5;28;01mfor\u001b[39;00m point \u001b[38;5;129;01min\u001b[39;00m points\n\u001b[0;32m    730\u001b[0m     ]\n\u001b[0;32m    732\u001b[0m num_points \u001b[38;5;241m=\u001b[39m \u001b[38;5;28mlen\u001b[39m(points)\n\u001b[0;32m    734\u001b[0m \u001b[38;5;66;03m# get the number of batches\u001b[39;00m\n",
            "File \u001b[1;32mc:\\Project\\venv\\lib\\site-packages\\qiskit\\algorithms\\optimizers\\spsa.py:729\u001b[0m, in \u001b[0;36m<listcomp>\u001b[1;34m(.0)\u001b[0m\n\u001b[0;32m    725\u001b[0m \u001b[38;5;66;03m# if the function cannot handle lists of points as input, cover this case immediately\u001b[39;00m\n\u001b[0;32m    726\u001b[0m \u001b[38;5;28;01mif\u001b[39;00m max_evals_grouped \u001b[38;5;129;01mis\u001b[39;00m \u001b[38;5;28;01mNone\u001b[39;00m \u001b[38;5;129;01mor\u001b[39;00m max_evals_grouped \u001b[38;5;241m==\u001b[39m \u001b[38;5;241m1\u001b[39m:\n\u001b[0;32m    727\u001b[0m     \u001b[38;5;66;03m# support functions with multiple arguments where the points are given in a tuple\u001b[39;00m\n\u001b[0;32m    728\u001b[0m     \u001b[38;5;28;01mreturn\u001b[39;00m [\n\u001b[1;32m--> 729\u001b[0m         function(\u001b[38;5;241m*\u001b[39mpoint) \u001b[38;5;28;01mif\u001b[39;00m \u001b[38;5;28misinstance\u001b[39m(point, \u001b[38;5;28mtuple\u001b[39m) \u001b[38;5;28;01melse\u001b[39;00m \u001b[43mfunction\u001b[49m\u001b[43m(\u001b[49m\u001b[43mpoint\u001b[49m\u001b[43m)\u001b[49m \u001b[38;5;28;01mfor\u001b[39;00m point \u001b[38;5;129;01min\u001b[39;00m points\n\u001b[0;32m    730\u001b[0m     ]\n\u001b[0;32m    732\u001b[0m num_points \u001b[38;5;241m=\u001b[39m \u001b[38;5;28mlen\u001b[39m(points)\n\u001b[0;32m    734\u001b[0m \u001b[38;5;66;03m# get the number of batches\u001b[39;00m\n",
            "File \u001b[1;32mc:\\Project\\venv\\lib\\site-packages\\qiskit_machine_learning\\algorithms\\objective_functions.py:191\u001b[0m, in \u001b[0;36mOneHotObjectiveFunction.objective\u001b[1;34m(self, weights)\u001b[0m\n\u001b[0;32m    189\u001b[0m \u001b[38;5;28;01mdef\u001b[39;00m\u001b[38;5;250m \u001b[39m\u001b[38;5;21mobjective\u001b[39m(\u001b[38;5;28mself\u001b[39m, weights: np\u001b[38;5;241m.\u001b[39mndarray) \u001b[38;5;241m-\u001b[39m\u001b[38;5;241m>\u001b[39m \u001b[38;5;28mfloat\u001b[39m:\n\u001b[0;32m    190\u001b[0m     \u001b[38;5;66;03m# probabilities is of shape (N, num_outputs)\u001b[39;00m\n\u001b[1;32m--> 191\u001b[0m     probs \u001b[38;5;241m=\u001b[39m \u001b[38;5;28;43mself\u001b[39;49m\u001b[38;5;241;43m.\u001b[39;49m\u001b[43m_neural_network_forward\u001b[49m\u001b[43m(\u001b[49m\u001b[43mweights\u001b[49m\u001b[43m)\u001b[49m\n\u001b[0;32m    192\u001b[0m     \u001b[38;5;66;03m# float(...) is for mypy compliance\u001b[39;00m\n\u001b[0;32m    193\u001b[0m     value \u001b[38;5;241m=\u001b[39m \u001b[38;5;28mfloat\u001b[39m(np\u001b[38;5;241m.\u001b[39msum(\u001b[38;5;28mself\u001b[39m\u001b[38;5;241m.\u001b[39m_loss(probs, \u001b[38;5;28mself\u001b[39m\u001b[38;5;241m.\u001b[39m_y)) \u001b[38;5;241m/\u001b[39m \u001b[38;5;28mself\u001b[39m\u001b[38;5;241m.\u001b[39m_num_samples)\n",
            "File \u001b[1;32mc:\\Project\\venv\\lib\\site-packages\\qiskit_machine_learning\\algorithms\\objective_functions.py:102\u001b[0m, in \u001b[0;36mObjectiveFunction._neural_network_forward\u001b[1;34m(self, weights)\u001b[0m\n\u001b[0;32m     97\u001b[0m \u001b[38;5;66;03m# if we get the same weights, we don't compute the forward pass again.\u001b[39;00m\n\u001b[0;32m     98\u001b[0m \u001b[38;5;28;01mif\u001b[39;00m \u001b[38;5;28mself\u001b[39m\u001b[38;5;241m.\u001b[39m_last_forward_weights \u001b[38;5;129;01mis\u001b[39;00m \u001b[38;5;28;01mNone\u001b[39;00m \u001b[38;5;129;01mor\u001b[39;00m (\n\u001b[0;32m     99\u001b[0m     \u001b[38;5;129;01mnot\u001b[39;00m np\u001b[38;5;241m.\u001b[39mall(np\u001b[38;5;241m.\u001b[39misclose(weights, \u001b[38;5;28mself\u001b[39m\u001b[38;5;241m.\u001b[39m_last_forward_weights))\n\u001b[0;32m    100\u001b[0m ):\n\u001b[0;32m    101\u001b[0m     \u001b[38;5;66;03m# compute forward and cache the results for re-use in backward\u001b[39;00m\n\u001b[1;32m--> 102\u001b[0m     \u001b[38;5;28mself\u001b[39m\u001b[38;5;241m.\u001b[39m_last_forward \u001b[38;5;241m=\u001b[39m \u001b[38;5;28;43mself\u001b[39;49m\u001b[38;5;241;43m.\u001b[39;49m\u001b[43m_neural_network\u001b[49m\u001b[38;5;241;43m.\u001b[39;49m\u001b[43mforward\u001b[49m\u001b[43m(\u001b[49m\u001b[38;5;28;43mself\u001b[39;49m\u001b[38;5;241;43m.\u001b[39;49m\u001b[43m_X\u001b[49m\u001b[43m,\u001b[49m\u001b[43m \u001b[49m\u001b[43mweights\u001b[49m\u001b[43m)\u001b[49m\n\u001b[0;32m    103\u001b[0m     \u001b[38;5;66;03m# a copy avoids keeping a reference to the same array, so we are sure we have\u001b[39;00m\n\u001b[0;32m    104\u001b[0m     \u001b[38;5;66;03m# different arrays on the next iteration.\u001b[39;00m\n\u001b[0;32m    105\u001b[0m     \u001b[38;5;28mself\u001b[39m\u001b[38;5;241m.\u001b[39m_last_forward_weights \u001b[38;5;241m=\u001b[39m np\u001b[38;5;241m.\u001b[39mcopy(weights)\n",
            "File \u001b[1;32mc:\\Project\\venv\\lib\\site-packages\\qiskit_machine_learning\\neural_networks\\neural_network.py:226\u001b[0m, in \u001b[0;36mNeuralNetwork.forward\u001b[1;34m(self, input_data, weights)\u001b[0m\n\u001b[0;32m    224\u001b[0m input_, shape \u001b[38;5;241m=\u001b[39m \u001b[38;5;28mself\u001b[39m\u001b[38;5;241m.\u001b[39m_validate_input(input_data)\n\u001b[0;32m    225\u001b[0m weights_ \u001b[38;5;241m=\u001b[39m \u001b[38;5;28mself\u001b[39m\u001b[38;5;241m.\u001b[39m_validate_weights(weights)\n\u001b[1;32m--> 226\u001b[0m output_data \u001b[38;5;241m=\u001b[39m \u001b[38;5;28;43mself\u001b[39;49m\u001b[38;5;241;43m.\u001b[39;49m\u001b[43m_forward\u001b[49m\u001b[43m(\u001b[49m\u001b[43minput_\u001b[49m\u001b[43m,\u001b[49m\u001b[43m \u001b[49m\u001b[43mweights_\u001b[49m\u001b[43m)\u001b[49m\n\u001b[0;32m    227\u001b[0m \u001b[38;5;28;01mreturn\u001b[39;00m \u001b[38;5;28mself\u001b[39m\u001b[38;5;241m.\u001b[39m_validate_forward_output(output_data, shape)\n",
            "File \u001b[1;32mc:\\Project\\venv\\lib\\site-packages\\qiskit_machine_learning\\neural_networks\\sampling_neural_network.py:89\u001b[0m, in \u001b[0;36mSamplingNeuralNetwork._forward\u001b[1;34m(self, input_data, weights)\u001b[0m\n\u001b[0;32m     87\u001b[0m     \u001b[38;5;28;01mreturn\u001b[39;00m \u001b[38;5;28mself\u001b[39m\u001b[38;5;241m.\u001b[39m_sample(input_data, weights)\n\u001b[0;32m     88\u001b[0m \u001b[38;5;28;01melse\u001b[39;00m:\n\u001b[1;32m---> 89\u001b[0m     \u001b[38;5;28;01mreturn\u001b[39;00m \u001b[38;5;28;43mself\u001b[39;49m\u001b[38;5;241;43m.\u001b[39;49m\u001b[43m_probabilities\u001b[49m\u001b[43m(\u001b[49m\u001b[43minput_data\u001b[49m\u001b[43m,\u001b[49m\u001b[43m \u001b[49m\u001b[43mweights\u001b[49m\u001b[43m)\u001b[49m\n",
            "File \u001b[1;32mc:\\Project\\venv\\lib\\site-packages\\qiskit_machine_learning\\neural_networks\\circuit_qnn.py:410\u001b[0m, in \u001b[0;36mCircuitQNN._probabilities\u001b[1;34m(self, input_data, weights)\u001b[0m\n\u001b[0;32m    404\u001b[0m     param_values \u001b[38;5;241m=\u001b[39m {\n\u001b[0;32m    405\u001b[0m         input_param: input_data[i, j] \u001b[38;5;28;01mfor\u001b[39;00m j, input_param \u001b[38;5;129;01min\u001b[39;00m \u001b[38;5;28menumerate\u001b[39m(\u001b[38;5;28mself\u001b[39m\u001b[38;5;241m.\u001b[39m_input_params)\n\u001b[0;32m    406\u001b[0m     }\n\u001b[0;32m    407\u001b[0m     param_values\u001b[38;5;241m.\u001b[39mupdate(\n\u001b[0;32m    408\u001b[0m         {weight_param: weights[j] \u001b[38;5;28;01mfor\u001b[39;00m j, weight_param \u001b[38;5;129;01min\u001b[39;00m \u001b[38;5;28menumerate\u001b[39m(\u001b[38;5;28mself\u001b[39m\u001b[38;5;241m.\u001b[39m_weight_params)}\n\u001b[0;32m    409\u001b[0m     )\n\u001b[1;32m--> 410\u001b[0m     circuits\u001b[38;5;241m.\u001b[39mappend(\u001b[38;5;28;43mself\u001b[39;49m\u001b[38;5;241;43m.\u001b[39;49m\u001b[43m_circuit\u001b[49m\u001b[38;5;241;43m.\u001b[39;49m\u001b[43mbind_parameters\u001b[49m\u001b[43m(\u001b[49m\u001b[43mparam_values\u001b[49m\u001b[43m)\u001b[49m)\n\u001b[0;32m    412\u001b[0m \u001b[38;5;28;01mif\u001b[39;00m \u001b[38;5;28mself\u001b[39m\u001b[38;5;241m.\u001b[39m_quantum_instance\u001b[38;5;241m.\u001b[39mbound_pass_manager \u001b[38;5;129;01mis\u001b[39;00m \u001b[38;5;129;01mnot\u001b[39;00m \u001b[38;5;28;01mNone\u001b[39;00m:\n\u001b[0;32m    413\u001b[0m     circuits \u001b[38;5;241m=\u001b[39m \u001b[38;5;28mself\u001b[39m\u001b[38;5;241m.\u001b[39m_quantum_instance\u001b[38;5;241m.\u001b[39mtranspile(\n\u001b[0;32m    414\u001b[0m         circuits, pass_manager\u001b[38;5;241m=\u001b[39m\u001b[38;5;28mself\u001b[39m\u001b[38;5;241m.\u001b[39m_quantum_instance\u001b[38;5;241m.\u001b[39mbound_pass_manager\n\u001b[0;32m    415\u001b[0m     )\n",
            "File \u001b[1;32mc:\\Project\\venv\\lib\\site-packages\\qiskit\\circuit\\quantumcircuit.py:2768\u001b[0m, in \u001b[0;36mQuantumCircuit.bind_parameters\u001b[1;34m(self, values)\u001b[0m\n\u001b[0;32m   2764\u001b[0m     \u001b[38;5;28;01mif\u001b[39;00m \u001b[38;5;28many\u001b[39m(\u001b[38;5;28misinstance\u001b[39m(value, ParameterExpression) \u001b[38;5;28;01mfor\u001b[39;00m value \u001b[38;5;129;01min\u001b[39;00m values\u001b[38;5;241m.\u001b[39mvalues()):\n\u001b[0;32m   2765\u001b[0m         \u001b[38;5;28;01mraise\u001b[39;00m \u001b[38;5;167;01mTypeError\u001b[39;00m(\n\u001b[0;32m   2766\u001b[0m             \u001b[38;5;124m\"\u001b[39m\u001b[38;5;124mFound ParameterExpression in values; use assign_parameters() instead.\u001b[39m\u001b[38;5;124m\"\u001b[39m\n\u001b[0;32m   2767\u001b[0m         )\n\u001b[1;32m-> 2768\u001b[0m     \u001b[38;5;28;01mreturn\u001b[39;00m \u001b[38;5;28;43mself\u001b[39;49m\u001b[38;5;241;43m.\u001b[39;49m\u001b[43massign_parameters\u001b[49m\u001b[43m(\u001b[49m\u001b[43mvalues\u001b[49m\u001b[43m)\u001b[49m\n\u001b[0;32m   2769\u001b[0m \u001b[38;5;28;01melse\u001b[39;00m:\n\u001b[0;32m   2770\u001b[0m     \u001b[38;5;28;01mif\u001b[39;00m \u001b[38;5;28many\u001b[39m(\u001b[38;5;28misinstance\u001b[39m(value, ParameterExpression) \u001b[38;5;28;01mfor\u001b[39;00m value \u001b[38;5;129;01min\u001b[39;00m values):\n",
            "File \u001b[1;32mc:\\Project\\venv\\lib\\site-packages\\qiskit\\circuit\\quantumcircuit.py:2728\u001b[0m, in \u001b[0;36mQuantumCircuit.assign_parameters\u001b[1;34m(self, parameters, inplace)\u001b[0m\n\u001b[0;32m   2726\u001b[0m     \u001b[38;5;66;03m# replace the parameters with a new Parameter (\"substitute\") or numeric value (\"bind\")\u001b[39;00m\n\u001b[0;32m   2727\u001b[0m     \u001b[38;5;28;01mfor\u001b[39;00m parameter, value \u001b[38;5;129;01min\u001b[39;00m unrolled_param_dict\u001b[38;5;241m.\u001b[39mitems():\n\u001b[1;32m-> 2728\u001b[0m         \u001b[43mbound_circuit\u001b[49m\u001b[38;5;241;43m.\u001b[39;49m\u001b[43m_assign_parameter\u001b[49m\u001b[43m(\u001b[49m\u001b[43mparameter\u001b[49m\u001b[43m,\u001b[49m\u001b[43m \u001b[49m\u001b[43mvalue\u001b[49m\u001b[43m)\u001b[49m\n\u001b[0;32m   2729\u001b[0m \u001b[38;5;28;01melse\u001b[39;00m:\n\u001b[0;32m   2730\u001b[0m     \u001b[38;5;28;01mif\u001b[39;00m \u001b[38;5;28mlen\u001b[39m(parameters) \u001b[38;5;241m!=\u001b[39m \u001b[38;5;28mself\u001b[39m\u001b[38;5;241m.\u001b[39mnum_parameters:\n",
            "File \u001b[1;32mc:\\Project\\venv\\lib\\site-packages\\qiskit\\circuit\\quantumcircuit.py:2842\u001b[0m, in \u001b[0;36mQuantumCircuit._assign_parameter\u001b[1;34m(self, parameter, value)\u001b[0m\n\u001b[0;32m   2840\u001b[0m                 \u001b[38;5;28mself\u001b[39m\u001b[38;5;241m.\u001b[39m_parameter_table[new_parameter] \u001b[38;5;241m=\u001b[39m entry\n\u001b[0;32m   2841\u001b[0m     \u001b[38;5;28;01melse\u001b[39;00m:\n\u001b[1;32m-> 2842\u001b[0m         \u001b[38;5;28;01mdel\u001b[39;00m \u001b[38;5;28mself\u001b[39m\u001b[38;5;241m.\u001b[39m_parameter_table[parameter]  \u001b[38;5;66;03m# clear evaluated expressions\u001b[39;00m\n\u001b[0;32m   2844\u001b[0m \u001b[38;5;28;01mif\u001b[39;00m (\n\u001b[0;32m   2845\u001b[0m     \u001b[38;5;28misinstance\u001b[39m(\u001b[38;5;28mself\u001b[39m\u001b[38;5;241m.\u001b[39mglobal_phase, ParameterExpression)\n\u001b[0;32m   2846\u001b[0m     \u001b[38;5;129;01mand\u001b[39;00m parameter \u001b[38;5;129;01min\u001b[39;00m \u001b[38;5;28mself\u001b[39m\u001b[38;5;241m.\u001b[39mglobal_phase\u001b[38;5;241m.\u001b[39mparameters\n\u001b[0;32m   2847\u001b[0m ):\n\u001b[0;32m   2848\u001b[0m     \u001b[38;5;28mself\u001b[39m\u001b[38;5;241m.\u001b[39mglobal_phase \u001b[38;5;241m=\u001b[39m \u001b[38;5;28mself\u001b[39m\u001b[38;5;241m.\u001b[39mglobal_phase\u001b[38;5;241m.\u001b[39massign(parameter, value)\n",
            "File \u001b[1;32mc:\\Project\\venv\\lib\\site-packages\\qiskit\\circuit\\parametertable.py:150\u001b[0m, in \u001b[0;36mParameterTable.__delitem__\u001b[1;34m(self, key)\u001b[0m\n\u001b[0;32m    148\u001b[0m \u001b[38;5;28;01mdef\u001b[39;00m\u001b[38;5;250m \u001b[39m\u001b[38;5;21m__delitem__\u001b[39m(\u001b[38;5;28mself\u001b[39m, key):\n\u001b[0;32m    149\u001b[0m     \u001b[38;5;28;01mdel\u001b[39;00m \u001b[38;5;28mself\u001b[39m\u001b[38;5;241m.\u001b[39m_table[key]\n\u001b[1;32m--> 150\u001b[0m     \u001b[38;5;28;43mself\u001b[39;49m\u001b[38;5;241;43m.\u001b[39;49m\u001b[43m_keys\u001b[49m\u001b[38;5;241;43m.\u001b[39;49m\u001b[43mdiscard\u001b[49m\u001b[43m(\u001b[49m\u001b[43mkey\u001b[49m\u001b[43m)\u001b[49m\n\u001b[0;32m    151\u001b[0m     \u001b[38;5;28mself\u001b[39m\u001b[38;5;241m.\u001b[39m_names\u001b[38;5;241m.\u001b[39mdiscard(key\u001b[38;5;241m.\u001b[39mname)\n",
            "\u001b[1;31mKeyboardInterrupt\u001b[0m: "
          ]
        }
      ],
      "source": [
        "vqc_opt.fit(X_train, y_train)\n",
        "y_pred_vqc_opt = vqc_opt.predict(X_test)"
      ]
    },
    {
      "cell_type": "markdown",
      "metadata": {
        "id": "AwudeoHGWOi4"
      },
      "source": [
        "##### 10.5 Evaluate Optimized VQC"
      ]
    },
    {
      "cell_type": "code",
      "execution_count": null,
      "metadata": {
        "id": "9QUkCcEVWR5K"
      },
      "outputs": [],
      "source": [
        "from sklearn.metrics import classification_report, confusion_matrix\n",
        "import seaborn as sns\n",
        "import matplotlib.pyplot as plt\n",
        "\n",
        "print(\"🔸 Optimized VQC:\")\n",
        "print(classification_report(y_test, y_pred_vqc_opt, target_names=[\"Non-Fraud\", \"Fraud\"]))\n",
        "\n",
        "conf_mat = confusion_matrix(y_test, y_pred_vqc_opt)\n",
        "sns.heatmap(conf_mat, annot=True, fmt='d', cmap='Greens',\n",
        "            xticklabels=[\"Predicted Non-Fraud\", \"Predicted Fraud\"],\n",
        "            yticklabels=[\"Actual Non-Fraud\", \"Actual Fraud\"])\n",
        "plt.title(\"Confusion Matrix - Optimized VQC\")\n",
        "plt.xlabel(\"Predicted\")\n",
        "plt.ylabel(\"Actual\")\n",
        "plt.show()"
      ]
    },
    {
      "cell_type": "markdown",
      "metadata": {
        "id": "hTVbbNjrakqa"
      },
      "source": [
        "| Metric                | Original VQC | Optimized VQC |\n",
        "| --------------------- | ------------ | ------------- |\n",
        "| Accuracy              | 67.5%        | **73%** ✅     |\n",
        "| Precision (Fraud)     | 68.4%        | **100%** ✅    |\n",
        "| Recall (Fraud)        | 65%          | 45% ❌         |\n",
        "| F1-score (Fraud)      | 66.7%        | 62% ❌         |\n",
        "| Precision (Non-Fraud) | —            | 65% ❌         |\n",
        "| Recall (Non-Fraud)    | —            | **100%** ✅    |\n",
        "\n",
        "\n",
        "- Accuracy improved noticeably (+5.5%), indicating better overall performance.\n",
        "- Precision for Fraud class is perfect (no false positives) ✅\n",
        "- But recall dropped: it caught fewer actual frauds — may be too conservative.\n",
        "- High recall for Non-Fraud suggests it predicted non-fraud very confidently."
      ]
    },
    {
      "cell_type": "markdown",
      "metadata": {
        "id": "2PQXTOGya0CR"
      },
      "source": [
        "EXP: Increase Dataset Size and Retrain VQC\n",
        "\n",
        "🔹 Goal:\n",
        "- Use more fraud and non-fraud samples (e.g., 300 or 500 from each)\n",
        "\n",
        "- Retrain VQC with the same optimized circuit (no other changes yet)\n",
        "\n",
        "- Evaluate impact on recall and f1-score"
      ]
    },
    {
      "cell_type": "markdown",
      "metadata": {
        "id": "2IwPrHqccv-l"
      },
      "source": [
        "Resample a larger balanced dataset"
      ]
    },
    {
      "cell_type": "code",
      "execution_count": null,
      "metadata": {
        "id": "-F4LhjyScg_0"
      },
      "outputs": [],
      "source": [
        "# Recreate balanced dataset with more samples\n",
        "fraud_sample_large = fraud_df.sample(n=300, random_state=42)\n",
        "non_fraud_sample_large = non_fraud_df.sample(n=300, random_state=42)\n",
        "\n",
        "balanced_df_large = pd.concat([fraud_sample_large, non_fraud_sample_large], axis=0)\n",
        "balanced_df_large = balanced_df_large.sample(frac=1, random_state=42).reset_index(drop=True)\n"
      ]
    },
    {
      "cell_type": "markdown",
      "metadata": {
        "id": "gN0Q3U5PcyPn"
      },
      "source": [
        "Standardize & Split Again"
      ]
    },
    {
      "cell_type": "code",
      "execution_count": null,
      "metadata": {
        "id": "vvH1R61Wci82"
      },
      "outputs": [],
      "source": [
        "# Re-normalize amount\n",
        "from sklearn.preprocessing import StandardScaler\n",
        "\n",
        "scaler = StandardScaler()\n",
        "balanced_df_large['amount'] = scaler.fit_transform(balanced_df_large[['amount']])\n",
        "\n",
        "# Extract features and labels\n",
        "X_large = balanced_df_large[['age', 'gender', 'category', 'amount']].values\n",
        "y_large = balanced_df_large['fraud'].values\n",
        "\n",
        "# Split\n",
        "from sklearn.model_selection import train_test_split\n",
        "\n",
        "X_train_large, X_test_large, y_train_large, y_test_large = train_test_split(\n",
        "    X_large, y_large, test_size=0.2, random_state=42, stratify=y_large\n",
        ")\n"
      ]
    },
    {
      "cell_type": "markdown",
      "metadata": {
        "id": "yrYB4V7Wc1yT"
      },
      "source": [
        "Reuse your Optimized VQC setup (same as before)"
      ]
    },
    {
      "cell_type": "code",
      "execution_count": null,
      "metadata": {
        "id": "cs8_FHGCck6q"
      },
      "outputs": [],
      "source": [
        "# Reuse feature_map_vqc_opt, ansatz_vqc_opt, optimizer_vqc from earlier\n",
        "\n",
        "vqc_large = VQC(\n",
        "    feature_map=feature_map_vqc_opt,\n",
        "    ansatz=ansatz_vqc_opt,\n",
        "    optimizer=optimizer_vqc,\n",
        "    quantum_instance=qi\n",
        ")\n",
        "\n",
        "vqc_large.fit(X_train_large, y_train_large)\n",
        "y_pred_vqc_large = vqc_large.predict(X_test_large)\n"
      ]
    },
    {
      "cell_type": "markdown",
      "metadata": {
        "id": "b3kqhMTEc43x"
      },
      "source": [
        "Evaluate New VQC with Larger Data"
      ]
    },
    {
      "cell_type": "code",
      "execution_count": null,
      "metadata": {
        "id": "EBhzv1-KcnqM"
      },
      "outputs": [],
      "source": [
        "from sklearn.metrics import classification_report, confusion_matrix\n",
        "import seaborn as sns\n",
        "import matplotlib.pyplot as plt\n",
        "\n",
        "print(\"🔸 Optimized VQC (Larger Dataset):\")\n",
        "print(classification_report(y_test_large, y_pred_vqc_large, target_names=[\"Non-Fraud\", \"Fraud\"]))\n",
        "\n",
        "conf_mat = confusion_matrix(y_test_large, y_pred_vqc_large)\n",
        "sns.heatmap(conf_mat, annot=True, fmt='d', cmap='Greens',\n",
        "            xticklabels=[\"Predicted Non-Fraud\", \"Predicted Fraud\"],\n",
        "            yticklabels=[\"Actual Non-Fraud\", \"Actual Fraud\"])\n",
        "plt.title(\"Confusion Matrix - Optimized VQC (Larger Data)\")\n",
        "plt.xlabel(\"Predicted\")\n",
        "plt.ylabel(\"Actual\")\n",
        "plt.show()\n"
      ]
    },
    {
      "cell_type": "markdown",
      "metadata": {
        "id": "YVLPIj3bnZff"
      },
      "source": [
        "| Metric                | Original VQC (100/100) | Optimized VQC (100/100) | Optimized VQC (300/300) |\n",
        "| --------------------- | ---------------------- | ----------------------- | ----------------------- |\n",
        "| Accuracy              | 67.5%                  | 73%                     | 73%                     |\n",
        "| Precision (Fraud)     | 68.4%                  | **100%**                | 87%                     |\n",
        "| Recall (Fraud)        | 65%                    | 45%                     | **55%**                 |\n",
        "| F1-score (Fraud)      | 66.7%                  | 62%                     | **67%**                 |\n",
        "| Precision (Non-Fraud) | —                      | 65%                     | **67%**                 |\n",
        "| Recall (Non-Fraud)    | —                      | **100%**                | 92%                     |\n",
        "| F1-score (Non-Fraud)  | —                      | 78%                     | **77%**                 |\n",
        "\n",
        "\n",
        "✅ F1-score for fraud improved from 62% → 67% — clear gain from more data\n",
        "\n",
        "🟡 Recall (fraud) improved, but still needs work (55%)\n",
        "\n",
        "✅ Non-Fraud detection is stable (92% recall)\n",
        "\n",
        "⏳ Training time increased dramatically — expected when using deeper ansatz + larger data"
      ]
    },
    {
      "cell_type": "markdown",
      "metadata": {
        "id": "XqPXPy7tndVo"
      },
      "source": [
        "1. Data scaling helps — it stabilized F1-score, even if accuracy didn’t rise much.\n",
        "\n",
        "2. VQC gets more balanced with more examples — recall/precision trade-off is manageable.\n",
        "\n",
        "3. mproved over the paper's results (where VQC struggled most), especially on F1."
      ]
    },
    {
      "cell_type": "markdown",
      "metadata": {
        "id": "ToQKZXvAoCaG"
      },
      "source": [
        "### Estimator QNN Optimization\n",
        "\n",
        "| Strategy                                         | Why?                               |\n",
        "| ------------------------------------------------ | ---------------------------------- |\n",
        "| ✅ **Deeper ansatz** (reps = 3–5)                 | Increases expressiveness           |\n",
        "| ✅ **ZZFeatureMap**                               | Captures qubit entanglement better |\n",
        "| ✅ **More epochs** (e.g., 50–100)                 | Helps with convergence             |\n",
        "| ✅ **Larger dataset** (300 fraud + 300 non-fraud) | Improve generalization             |\n",
        "| ✅ **Better optimizer** (`Adam` or `LBFGS`)       | Avoids flat loss landscape issues  |\n"
      ]
    },
    {
      "cell_type": "markdown",
      "metadata": {
        "id": "Uqi8gmMrsoR-"
      },
      "source": [
        "Building a Deeper Estimator QNN"
      ]
    },
    {
      "cell_type": "code",
      "execution_count": null,
      "metadata": {
        "id": "N8osloHWti4p"
      },
      "outputs": [],
      "source": [
        "from qiskit import QuantumCircuit\n",
        "from qiskit.circuit.library import ZZFeatureMap, TwoLocal\n",
        "from qiskit.primitives import Estimator\n",
        "from qiskit_machine_learning.neural_networks import EstimatorQNN\n",
        "\n",
        "# Deeper feature map and ansatz\n",
        "feature_map_est = ZZFeatureMap(num_qubits, reps=2)\n",
        "ansatz_est = TwoLocal(num_qubits, ['ry', 'rz'], 'cz', reps=5, entanglement='full')\n",
        "\n",
        "# Combine\n",
        "qc_est = QuantumCircuit(num_qubits)\n",
        "qc_est.compose(feature_map_est, inplace=True)\n",
        "qc_est.compose(ansatz_est, inplace=True)\n",
        "\n",
        "# Parameters\n",
        "input_params = list(feature_map_est.parameters)\n",
        "weight_params = list(ansatz_est.parameters)\n",
        "\n",
        "estimator = Estimator(options={\"shots\": 1024, \"seed\": 42})\n",
        "estimator_qnn_opt = EstimatorQNN(\n",
        "    circuit=qc_est,\n",
        "    input_params=input_params,\n",
        "    weight_params=weight_params,\n",
        "    estimator=estimator\n",
        ")\n"
      ]
    },
    {
      "cell_type": "markdown",
      "metadata": {
        "id": "TL6kbiGZvkPb"
      },
      "source": [
        "Wrap in PyTorch and train"
      ]
    },
    {
      "cell_type": "code",
      "execution_count": null,
      "metadata": {
        "id": "8tSD15JlvuDs"
      },
      "outputs": [],
      "source": [
        "from qiskit_machine_learning.connectors import TorchConnector\n",
        "import torch\n",
        "import torch.nn as nn\n",
        "import torch.optim as optim\n",
        "\n",
        "X_train_torch = torch.tensor(X_train_large, dtype=torch.float32)\n",
        "y_train_torch = torch.tensor(y_train_large.reshape(-1, 1), dtype=torch.float32)\n",
        "X_test_torch = torch.tensor(X_test_large, dtype=torch.float32)\n",
        "y_test_torch = torch.tensor(y_test_large.reshape(-1, 1), dtype=torch.float32)\n",
        "\n",
        "qnn_layer = TorchConnector(estimator_qnn_opt)\n",
        "\n",
        "class QuantumEstimatorNet(nn.Module):\n",
        "    def __init__(self):\n",
        "        super().__init__()\n",
        "        self.qnn = qnn_layer\n",
        "        self.output = nn.Sigmoid()\n",
        "\n",
        "    def forward(self, x):\n",
        "        x = self.qnn(x)\n",
        "        return self.output(x)\n",
        "\n",
        "model = QuantumEstimatorNet()\n",
        "loss_fn = nn.BCELoss()\n",
        "optimizer = optim.Adam(model.parameters(), lr=0.01)\n",
        "\n",
        "# Train longer\n",
        "epochs = 50\n",
        "for epoch in range(epochs):\n",
        "    optimizer.zero_grad()\n",
        "    y_pred = model(X_train_torch)\n",
        "    loss = loss_fn(y_pred, y_train_torch)\n",
        "    loss.backward()\n",
        "    optimizer.step()\n",
        "    print(f\"Epoch {epoch+1}/{epochs} | Loss: {loss.item():.4f}\")\n"
      ]
    },
    {
      "cell_type": "markdown",
      "metadata": {
        "id": "nge114tVv6qr"
      },
      "source": [
        "Evaluate the Optimized Estimator QNN"
      ]
    },
    {
      "cell_type": "code",
      "execution_count": null,
      "metadata": {
        "id": "caJ-txo0v7de"
      },
      "outputs": [],
      "source": [
        "from sklearn.metrics import classification_report, confusion_matrix\n",
        "import seaborn as sns\n",
        "import matplotlib.pyplot as plt\n",
        "\n",
        "with torch.no_grad():\n",
        "    y_pred_est_opt = model(X_test_torch)\n",
        "    y_pred_labels_est_opt = (y_pred_est_opt >= 0.5).int().numpy()\n",
        "\n",
        "print(\"🔸 Optimized Estimator QNN (Larger Dataset):\")\n",
        "print(classification_report(y_test_large, y_pred_labels_est_opt, target_names=[\"Non-Fraud\", \"Fraud\"]))\n",
        "\n",
        "conf_mat = confusion_matrix(y_test_large, y_pred_labels_est_opt)\n",
        "sns.heatmap(conf_mat, annot=True, fmt='d', cmap='YlGnBu',\n",
        "            xticklabels=[\"Predicted Non-Fraud\", \"Predicted Fraud\"],\n",
        "            yticklabels=[\"Actual Non-Fraud\", \"Actual Fraud\"])\n",
        "plt.title(\"Confusion Matrix - Estimator QNN (Optimized)\")\n",
        "plt.xlabel(\"Predicted\")\n",
        "plt.ylabel(\"Actual\")\n",
        "plt.show()\n"
      ]
    }
  ],
  "metadata": {
    "accelerator": "TPU",
    "colab": {
      "gpuType": "V28",
      "provenance": []
    },
    "kernelspec": {
      "display_name": "venv",
      "language": "python",
      "name": "python3"
    },
    "language_info": {
      "codemirror_mode": {
        "name": "ipython",
        "version": 3
      },
      "file_extension": ".py",
      "mimetype": "text/x-python",
      "name": "python",
      "nbconvert_exporter": "python",
      "pygments_lexer": "ipython3",
      "version": "3.10.9"
    }
  },
  "nbformat": 4,
  "nbformat_minor": 0
}
